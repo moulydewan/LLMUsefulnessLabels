{
 "cells": [
  {
   "cell_type": "code",
   "execution_count": 60,
   "id": "3c004194-3b40-4959-800c-e153c4069561",
   "metadata": {},
   "outputs": [
    {
     "name": "stdout",
     "output_type": "stream",
     "text": [
      "Sat Mar 29 08:22:01 2025       \n",
      "+-----------------------------------------------------------------------------------------+\n",
      "| NVIDIA-SMI 550.144.03             Driver Version: 550.144.03     CUDA Version: 12.4     |\n",
      "|-----------------------------------------+------------------------+----------------------+\n",
      "| GPU  Name                 Persistence-M | Bus-Id          Disp.A | Volatile Uncorr. ECC |\n",
      "| Fan  Temp   Perf          Pwr:Usage/Cap |           Memory-Usage | GPU-Util  Compute M. |\n",
      "|                                         |                        |               MIG M. |\n",
      "|=========================================+========================+======================|\n",
      "|   0  NVIDIA A10G                    On  |   00000000:00:1E.0 Off |                    0 |\n",
      "|  0%   28C    P0             60W /  300W |   20163MiB /  23028MiB |      0%      Default |\n",
      "|                                         |                        |                  N/A |\n",
      "+-----------------------------------------+------------------------+----------------------+\n",
      "                                                                                         \n",
      "+-----------------------------------------------------------------------------------------+\n",
      "| Processes:                                                                              |\n",
      "|  GPU   GI   CI        PID   Type   Process name                              GPU Memory |\n",
      "|        ID   ID                                                               Usage      |\n",
      "|=========================================================================================|\n",
      "|    0   N/A  N/A     32181      C   ...r/anaconda3/envs/python3/bin/python      20018MiB |\n",
      "+-----------------------------------------------------------------------------------------+\n"
     ]
    },
    {
     "name": "stderr",
     "output_type": "stream",
     "text": [
      "huggingface/tokenizers: The current process just got forked, after parallelism has already been used. Disabling parallelism to avoid deadlocks...\n",
      "To disable this warning, you can either:\n",
      "\t- Avoid using `tokenizers` before the fork if possible\n",
      "\t- Explicitly set the environment variable TOKENIZERS_PARALLELISM=(true | false)\n"
     ]
    }
   ],
   "source": [
    "!nvidia-smi"
   ]
  },
  {
   "cell_type": "code",
   "execution_count": 2,
   "id": "79d8e91a-5469-4078-b6ca-a0f1fcbb2eb1",
   "metadata": {},
   "outputs": [],
   "source": [
    "!pip install -Uqqq pip --progress-bar off\n",
    "!pip install -qqq torch==2.3.1 transformers==4.48.3 datasets==2.20.0 accelerate==0.31.0 bitsandbytes==0.43.1 peft==0.11.1 trl==0.9.4 colored==2.2.4 pathos dill multiprocess --progress-bar off"
   ]
  },
  {
   "cell_type": "code",
   "execution_count": 3,
   "id": "5b0eabcf-1cda-4eba-ab45-9db3d49e5bc1",
   "metadata": {},
   "outputs": [
    {
     "name": "stdout",
     "output_type": "stream",
     "text": [
      "Found existing installation: dill 0.3.8\n",
      "Uninstalling dill-0.3.8:\n",
      "  Successfully uninstalled dill-0.3.8\n",
      "Found existing installation: multiprocess 0.70.16\n",
      "Uninstalling multiprocess-0.70.16:\n",
      "  Successfully uninstalled multiprocess-0.70.16\n",
      "Collecting dill==0.3.9\n",
      "  Using cached dill-0.3.9-py3-none-any.whl.metadata (10 kB)\n",
      "Collecting multiprocess==0.70.17\n",
      "  Using cached multiprocess-0.70.17-py310-none-any.whl.metadata (7.2 kB)\n",
      "Using cached dill-0.3.9-py3-none-any.whl (119 kB)\n",
      "Using cached multiprocess-0.70.17-py310-none-any.whl (134 kB)\n",
      "Installing collected packages: dill, multiprocess\n",
      "\u001b[31mERROR: pip's dependency resolver does not currently take into account all the packages that are installed. This behaviour is the source of the following dependency conflicts.\n",
      "datasets 2.20.0 requires dill<0.3.9,>=0.3.0, but you have dill 0.3.9 which is incompatible.\u001b[0m\u001b[31m\n",
      "\u001b[0mSuccessfully installed dill-0.3.9 multiprocess-0.70.17\n"
     ]
    }
   ],
   "source": [
    "!pip uninstall -y dill multiprocess\n",
    "!pip install -U dill==0.3.9 multiprocess==0.70.17"
   ]
  },
  {
   "cell_type": "code",
   "execution_count": 4,
   "id": "f5779e1d-7aa7-47bb-bff4-3b39de495eb7",
   "metadata": {},
   "outputs": [
    {
     "name": "stdout",
     "output_type": "stream",
     "text": [
      "Collecting accelerate==0.34.2\n",
      "  Downloading accelerate-0.34.2-py3-none-any.whl.metadata (19 kB)\n",
      "Requirement already satisfied: numpy<3.0.0,>=1.17 in /home/ec2-user/anaconda3/envs/python3/lib/python3.10/site-packages (from accelerate==0.34.2) (1.26.4)\n",
      "Requirement already satisfied: packaging>=20.0 in /home/ec2-user/anaconda3/envs/python3/lib/python3.10/site-packages (from accelerate==0.34.2) (21.3)\n",
      "Requirement already satisfied: psutil in /home/ec2-user/anaconda3/envs/python3/lib/python3.10/site-packages (from accelerate==0.34.2) (6.1.1)\n",
      "Requirement already satisfied: pyyaml in /home/ec2-user/anaconda3/envs/python3/lib/python3.10/site-packages (from accelerate==0.34.2) (6.0.2)\n",
      "Requirement already satisfied: torch>=1.10.0 in /home/ec2-user/anaconda3/envs/python3/lib/python3.10/site-packages (from accelerate==0.34.2) (2.3.1)\n",
      "Requirement already satisfied: huggingface-hub>=0.21.0 in /home/ec2-user/anaconda3/envs/python3/lib/python3.10/site-packages (from accelerate==0.34.2) (0.29.3)\n",
      "Requirement already satisfied: safetensors>=0.4.3 in /home/ec2-user/anaconda3/envs/python3/lib/python3.10/site-packages (from accelerate==0.34.2) (0.5.3)\n",
      "Requirement already satisfied: filelock in /home/ec2-user/anaconda3/envs/python3/lib/python3.10/site-packages (from huggingface-hub>=0.21.0->accelerate==0.34.2) (3.17.0)\n",
      "Requirement already satisfied: fsspec>=2023.5.0 in /home/ec2-user/anaconda3/envs/python3/lib/python3.10/site-packages (from huggingface-hub>=0.21.0->accelerate==0.34.2) (2024.5.0)\n",
      "Requirement already satisfied: requests in /home/ec2-user/anaconda3/envs/python3/lib/python3.10/site-packages (from huggingface-hub>=0.21.0->accelerate==0.34.2) (2.32.3)\n",
      "Requirement already satisfied: tqdm>=4.42.1 in /home/ec2-user/anaconda3/envs/python3/lib/python3.10/site-packages (from huggingface-hub>=0.21.0->accelerate==0.34.2) (4.67.1)\n",
      "Requirement already satisfied: typing-extensions>=3.7.4.3 in /home/ec2-user/anaconda3/envs/python3/lib/python3.10/site-packages (from huggingface-hub>=0.21.0->accelerate==0.34.2) (4.12.2)\n",
      "Requirement already satisfied: pyparsing!=3.0.5,>=2.0.2 in /home/ec2-user/anaconda3/envs/python3/lib/python3.10/site-packages (from packaging>=20.0->accelerate==0.34.2) (3.2.1)\n",
      "Requirement already satisfied: sympy in /home/ec2-user/anaconda3/envs/python3/lib/python3.10/site-packages (from torch>=1.10.0->accelerate==0.34.2) (1.13.3)\n",
      "Requirement already satisfied: networkx in /home/ec2-user/anaconda3/envs/python3/lib/python3.10/site-packages (from torch>=1.10.0->accelerate==0.34.2) (3.4)\n",
      "Requirement already satisfied: jinja2 in /home/ec2-user/anaconda3/envs/python3/lib/python3.10/site-packages (from torch>=1.10.0->accelerate==0.34.2) (3.1.5)\n",
      "Requirement already satisfied: nvidia-cuda-nvrtc-cu12==12.1.105 in /home/ec2-user/anaconda3/envs/python3/lib/python3.10/site-packages (from torch>=1.10.0->accelerate==0.34.2) (12.1.105)\n",
      "Requirement already satisfied: nvidia-cuda-runtime-cu12==12.1.105 in /home/ec2-user/anaconda3/envs/python3/lib/python3.10/site-packages (from torch>=1.10.0->accelerate==0.34.2) (12.1.105)\n",
      "Requirement already satisfied: nvidia-cuda-cupti-cu12==12.1.105 in /home/ec2-user/anaconda3/envs/python3/lib/python3.10/site-packages (from torch>=1.10.0->accelerate==0.34.2) (12.1.105)\n",
      "Requirement already satisfied: nvidia-cudnn-cu12==8.9.2.26 in /home/ec2-user/anaconda3/envs/python3/lib/python3.10/site-packages (from torch>=1.10.0->accelerate==0.34.2) (8.9.2.26)\n",
      "Requirement already satisfied: nvidia-cublas-cu12==12.1.3.1 in /home/ec2-user/anaconda3/envs/python3/lib/python3.10/site-packages (from torch>=1.10.0->accelerate==0.34.2) (12.1.3.1)\n",
      "Requirement already satisfied: nvidia-cufft-cu12==11.0.2.54 in /home/ec2-user/anaconda3/envs/python3/lib/python3.10/site-packages (from torch>=1.10.0->accelerate==0.34.2) (11.0.2.54)\n",
      "Requirement already satisfied: nvidia-curand-cu12==10.3.2.106 in /home/ec2-user/anaconda3/envs/python3/lib/python3.10/site-packages (from torch>=1.10.0->accelerate==0.34.2) (10.3.2.106)\n",
      "Requirement already satisfied: nvidia-cusolver-cu12==11.4.5.107 in /home/ec2-user/anaconda3/envs/python3/lib/python3.10/site-packages (from torch>=1.10.0->accelerate==0.34.2) (11.4.5.107)\n",
      "Requirement already satisfied: nvidia-cusparse-cu12==12.1.0.106 in /home/ec2-user/anaconda3/envs/python3/lib/python3.10/site-packages (from torch>=1.10.0->accelerate==0.34.2) (12.1.0.106)\n",
      "Requirement already satisfied: nvidia-nccl-cu12==2.20.5 in /home/ec2-user/anaconda3/envs/python3/lib/python3.10/site-packages (from torch>=1.10.0->accelerate==0.34.2) (2.20.5)\n",
      "Requirement already satisfied: nvidia-nvtx-cu12==12.1.105 in /home/ec2-user/anaconda3/envs/python3/lib/python3.10/site-packages (from torch>=1.10.0->accelerate==0.34.2) (12.1.105)\n",
      "Requirement already satisfied: triton==2.3.1 in /home/ec2-user/anaconda3/envs/python3/lib/python3.10/site-packages (from torch>=1.10.0->accelerate==0.34.2) (2.3.1)\n",
      "Requirement already satisfied: nvidia-nvjitlink-cu12 in /home/ec2-user/anaconda3/envs/python3/lib/python3.10/site-packages (from nvidia-cusolver-cu12==11.4.5.107->torch>=1.10.0->accelerate==0.34.2) (12.8.93)\n",
      "Requirement already satisfied: MarkupSafe>=2.0 in /home/ec2-user/anaconda3/envs/python3/lib/python3.10/site-packages (from jinja2->torch>=1.10.0->accelerate==0.34.2) (3.0.2)\n",
      "Requirement already satisfied: charset_normalizer<4,>=2 in /home/ec2-user/anaconda3/envs/python3/lib/python3.10/site-packages (from requests->huggingface-hub>=0.21.0->accelerate==0.34.2) (3.4.1)\n",
      "Requirement already satisfied: idna<4,>=2.5 in /home/ec2-user/anaconda3/envs/python3/lib/python3.10/site-packages (from requests->huggingface-hub>=0.21.0->accelerate==0.34.2) (3.10)\n",
      "Requirement already satisfied: urllib3<3,>=1.21.1 in /home/ec2-user/anaconda3/envs/python3/lib/python3.10/site-packages (from requests->huggingface-hub>=0.21.0->accelerate==0.34.2) (2.3.0)\n",
      "Requirement already satisfied: certifi>=2017.4.17 in /home/ec2-user/anaconda3/envs/python3/lib/python3.10/site-packages (from requests->huggingface-hub>=0.21.0->accelerate==0.34.2) (2025.1.31)\n",
      "Requirement already satisfied: mpmath<1.4,>=1.1.0 in /home/ec2-user/anaconda3/envs/python3/lib/python3.10/site-packages (from sympy->torch>=1.10.0->accelerate==0.34.2) (1.3.0)\n",
      "Downloading accelerate-0.34.2-py3-none-any.whl (324 kB)\n",
      "Installing collected packages: accelerate\n",
      "  Attempting uninstall: accelerate\n",
      "    Found existing installation: accelerate 0.31.0\n",
      "    Uninstalling accelerate-0.31.0:\n",
      "      Successfully uninstalled accelerate-0.31.0\n",
      "Successfully installed accelerate-0.34.2\n"
     ]
    }
   ],
   "source": [
    "!pip install --upgrade accelerate==0.34.2"
   ]
  },
  {
   "cell_type": "code",
   "execution_count": 1,
   "id": "728c69a1-8545-4240-8503-fd9321c76b00",
   "metadata": {},
   "outputs": [
    {
     "name": "stdout",
     "output_type": "stream",
     "text": [
      "0.34.2\n"
     ]
    }
   ],
   "source": [
    "import accelerate\n",
    "print(accelerate.__version__)"
   ]
  },
  {
   "cell_type": "code",
   "execution_count": 2,
   "id": "9b701b6a-82e7-4bde-98e7-281855028861",
   "metadata": {},
   "outputs": [
    {
     "name": "stdout",
     "output_type": "stream",
     "text": [
      "Torch version: 2.3.1+cu121\n",
      "Transformers version: 4.48.3\n",
      "BitsAndBytes version: 0.45.4\n",
      "Accelerate version: 0.34.2\n",
      "PEFT version: 0.11.1\n",
      "TRL version: 0.9.4\n",
      "Datasets version: 3.5.0\n",
      "Triton version: 2.3.1\n",
      "Pathos version: 0.3.2\n",
      "Dill version: 0.3.8\n",
      "Multiprocess version: 0.70.16\n"
     ]
    }
   ],
   "source": [
    "import torch\n",
    "import transformers\n",
    "import bitsandbytes\n",
    "import accelerate\n",
    "import peft\n",
    "import trl\n",
    "import datasets\n",
    "import triton\n",
    "import pathos\n",
    "import dill\n",
    "import multiprocess\n",
    "\n",
    "print(\"Torch version:\", torch.__version__)\n",
    "print(\"Transformers version:\", transformers.__version__)\n",
    "print(\"BitsAndBytes version:\", bitsandbytes.__version__)\n",
    "print(\"Accelerate version:\", accelerate.__version__)\n",
    "print(\"PEFT version:\", peft.__version__)\n",
    "print(\"TRL version:\", trl.__version__)\n",
    "print(\"Datasets version:\", datasets.__version__)\n",
    "print(\"Triton version:\", triton.__version__)\n",
    "print(\"Pathos version:\", pathos.__version__)\n",
    "print(\"Dill version:\", dill.__version__)\n",
    "print(\"Multiprocess version:\", multiprocess.__version__)"
   ]
  },
  {
   "cell_type": "code",
   "execution_count": 47,
   "id": "a561e37c-5093-4ceb-afaa-01c6ee03dc8a",
   "metadata": {},
   "outputs": [
    {
     "name": "stderr",
     "output_type": "stream",
     "text": [
      "huggingface/tokenizers: The current process just got forked, after parallelism has already been used. Disabling parallelism to avoid deadlocks...\n",
      "To disable this warning, you can either:\n",
      "\t- Avoid using `tokenizers` before the fork if possible\n",
      "\t- Explicitly set the environment variable TOKENIZERS_PARALLELISM=(true | false)\n"
     ]
    },
    {
     "name": "stdout",
     "output_type": "stream",
     "text": [
      "Requirement already satisfied: bitsandbytes in /home/ec2-user/anaconda3/envs/python3/lib/python3.10/site-packages (0.45.4)\n",
      "Requirement already satisfied: torch<3,>=2.0 in /home/ec2-user/anaconda3/envs/python3/lib/python3.10/site-packages (from bitsandbytes) (2.3.1)\n",
      "Requirement already satisfied: numpy>=1.17 in /home/ec2-user/anaconda3/envs/python3/lib/python3.10/site-packages (from bitsandbytes) (1.26.4)\n",
      "Requirement already satisfied: filelock in /home/ec2-user/anaconda3/envs/python3/lib/python3.10/site-packages (from torch<3,>=2.0->bitsandbytes) (3.17.0)\n",
      "Requirement already satisfied: typing-extensions>=4.8.0 in /home/ec2-user/anaconda3/envs/python3/lib/python3.10/site-packages (from torch<3,>=2.0->bitsandbytes) (4.12.2)\n",
      "Requirement already satisfied: sympy in /home/ec2-user/anaconda3/envs/python3/lib/python3.10/site-packages (from torch<3,>=2.0->bitsandbytes) (1.13.3)\n",
      "Requirement already satisfied: networkx in /home/ec2-user/anaconda3/envs/python3/lib/python3.10/site-packages (from torch<3,>=2.0->bitsandbytes) (3.4)\n",
      "Requirement already satisfied: jinja2 in /home/ec2-user/anaconda3/envs/python3/lib/python3.10/site-packages (from torch<3,>=2.0->bitsandbytes) (3.1.5)\n",
      "Requirement already satisfied: fsspec in /home/ec2-user/anaconda3/envs/python3/lib/python3.10/site-packages (from torch<3,>=2.0->bitsandbytes) (2024.5.0)\n",
      "Requirement already satisfied: nvidia-cuda-nvrtc-cu12==12.1.105 in /home/ec2-user/anaconda3/envs/python3/lib/python3.10/site-packages (from torch<3,>=2.0->bitsandbytes) (12.1.105)\n",
      "Requirement already satisfied: nvidia-cuda-runtime-cu12==12.1.105 in /home/ec2-user/anaconda3/envs/python3/lib/python3.10/site-packages (from torch<3,>=2.0->bitsandbytes) (12.1.105)\n",
      "Requirement already satisfied: nvidia-cuda-cupti-cu12==12.1.105 in /home/ec2-user/anaconda3/envs/python3/lib/python3.10/site-packages (from torch<3,>=2.0->bitsandbytes) (12.1.105)\n",
      "Requirement already satisfied: nvidia-cudnn-cu12==8.9.2.26 in /home/ec2-user/anaconda3/envs/python3/lib/python3.10/site-packages (from torch<3,>=2.0->bitsandbytes) (8.9.2.26)\n",
      "Requirement already satisfied: nvidia-cublas-cu12==12.1.3.1 in /home/ec2-user/anaconda3/envs/python3/lib/python3.10/site-packages (from torch<3,>=2.0->bitsandbytes) (12.1.3.1)\n",
      "Requirement already satisfied: nvidia-cufft-cu12==11.0.2.54 in /home/ec2-user/anaconda3/envs/python3/lib/python3.10/site-packages (from torch<3,>=2.0->bitsandbytes) (11.0.2.54)\n",
      "Requirement already satisfied: nvidia-curand-cu12==10.3.2.106 in /home/ec2-user/anaconda3/envs/python3/lib/python3.10/site-packages (from torch<3,>=2.0->bitsandbytes) (10.3.2.106)\n",
      "Requirement already satisfied: nvidia-cusolver-cu12==11.4.5.107 in /home/ec2-user/anaconda3/envs/python3/lib/python3.10/site-packages (from torch<3,>=2.0->bitsandbytes) (11.4.5.107)\n",
      "Requirement already satisfied: nvidia-cusparse-cu12==12.1.0.106 in /home/ec2-user/anaconda3/envs/python3/lib/python3.10/site-packages (from torch<3,>=2.0->bitsandbytes) (12.1.0.106)\n",
      "Requirement already satisfied: nvidia-nccl-cu12==2.20.5 in /home/ec2-user/anaconda3/envs/python3/lib/python3.10/site-packages (from torch<3,>=2.0->bitsandbytes) (2.20.5)\n",
      "Requirement already satisfied: nvidia-nvtx-cu12==12.1.105 in /home/ec2-user/anaconda3/envs/python3/lib/python3.10/site-packages (from torch<3,>=2.0->bitsandbytes) (12.1.105)\n",
      "Requirement already satisfied: triton==2.3.1 in /home/ec2-user/anaconda3/envs/python3/lib/python3.10/site-packages (from torch<3,>=2.0->bitsandbytes) (2.3.1)\n",
      "Requirement already satisfied: nvidia-nvjitlink-cu12 in /home/ec2-user/anaconda3/envs/python3/lib/python3.10/site-packages (from nvidia-cusolver-cu12==11.4.5.107->torch<3,>=2.0->bitsandbytes) (12.8.93)\n",
      "Requirement already satisfied: MarkupSafe>=2.0 in /home/ec2-user/anaconda3/envs/python3/lib/python3.10/site-packages (from jinja2->torch<3,>=2.0->bitsandbytes) (3.0.2)\n",
      "Requirement already satisfied: mpmath<1.4,>=1.1.0 in /home/ec2-user/anaconda3/envs/python3/lib/python3.10/site-packages (from sympy->torch<3,>=2.0->bitsandbytes) (1.3.0)\n"
     ]
    }
   ],
   "source": [
    "!pip install --upgrade bitsandbytes"
   ]
  },
  {
   "cell_type": "code",
   "execution_count": 3,
   "id": "8ea0369b-11e8-4075-a639-0417dee22869",
   "metadata": {},
   "outputs": [
    {
     "name": "stdout",
     "output_type": "stream",
     "text": [
      "0.45.4\n"
     ]
    }
   ],
   "source": [
    "import bitsandbytes as bnb\n",
    "print(bnb.__version__)"
   ]
  },
  {
   "cell_type": "code",
   "execution_count": 4,
   "id": "6406fbc7-4002-44f4-baf2-453958e6da72",
   "metadata": {},
   "outputs": [
    {
     "name": "stdout",
     "output_type": "stream",
     "text": [
      "CUDA Available: True\n",
      "CUDA Device Count: 1\n",
      "Current Device: 0\n",
      "Device Name: NVIDIA A10G\n"
     ]
    }
   ],
   "source": [
    "print(\"CUDA Available:\", torch.cuda.is_available())\n",
    "print(\"CUDA Device Count:\", torch.cuda.device_count())\n",
    "print(\"Current Device:\", torch.cuda.current_device())\n",
    "print(\"Device Name:\", torch.cuda.get_device_name(torch.cuda.current_device()))\n"
   ]
  },
  {
   "cell_type": "code",
   "execution_count": 6,
   "id": "41f78e17-8aec-4499-a364-0cc193d04504",
   "metadata": {},
   "outputs": [],
   "source": [
    "import random\n",
    "from textwrap import dedent\n",
    "from typing import Dict, List\n",
    "\n",
    "import matplotlib as mpl\n",
    "import matplotlib.colors as colors\n",
    "import matplotlib.pyplot as plt\n",
    "import numpy as np\n",
    "import pandas as pd\n",
    "import seaborn as sns\n",
    "import torch\n",
    "from colored import Back, Fore, Style\n",
    "from datasets import Dataset, load_dataset\n",
    "from matplotlib.ticker import PercentFormatter\n",
    "from peft import (\n",
    "    LoraConfig,\n",
    "    PeftModel,\n",
    "    TaskType,\n",
    "    get_peft_model,\n",
    "    prepare_model_for_kbit_training,\n",
    ")\n",
    "from sklearn.model_selection import train_test_split\n",
    "from torch.utils.data import DataLoader\n",
    "from tqdm import tqdm\n",
    "from transformers import (\n",
    "    AutoModelForCausalLM,\n",
    "    AutoTokenizer,\n",
    "    BitsAndBytesConfig,\n",
    "    pipeline,\n",
    ")\n",
    "from trl import DataCollatorForCompletionOnlyLM, SFTConfig, SFTTrainer\n",
    "\n",
    "%matplotlib inline\n",
    "%config InlineBackend.figure_format='retina'\n",
    "\n",
    "COLORS = [\"#bae1ff\", \"#ffb3ba\", \"#ffdfba\", \"#ffffba\", \"#baffc9\"]\n",
    "\n",
    "sns.set(style=\"whitegrid\", palette=\"muted\", font_scale=1.2)\n",
    "sns.set_palette(sns.color_palette(COLORS))\n",
    "\n",
    "cmap = colors.LinearSegmentedColormap.from_list(\"custom_cmap\", COLORS[:2])\n",
    "\n",
    "MY_STYLE = {\n",
    "    \"figure.facecolor\": \"black\",\n",
    "    \"axes.facecolor\": \"black\",\n",
    "    \"axes.edgecolor\": \"white\",\n",
    "    \"axes.labelcolor\": \"white\",\n",
    "    \"axes.linewidth\": 0.5,\n",
    "    \"text.color\": \"white\",\n",
    "    \"xtick.color\": \"white\",\n",
    "    \"ytick.color\": \"white\",\n",
    "    \"grid.color\": \"gray\",\n",
    "    \"grid.linestyle\": \"--\",\n",
    "    \"grid.linewidth\": 0.5,\n",
    "    \"axes.grid\": True,\n",
    "    \"xtick.labelsize\": \"medium\",\n",
    "    \"ytick.labelsize\": \"medium\",\n",
    "    \"axes.titlesize\": \"large\",\n",
    "    \"axes.labelsize\": \"large\",\n",
    "    \"lines.color\": COLORS[0],\n",
    "    \"patch.edgecolor\": \"white\",\n",
    "}\n",
    "\n",
    "mpl.rcParams.update(MY_STYLE)\n",
    "\n",
    "SEED = 42\n",
    "\n",
    "\n",
    "def seed_everything(seed: int):\n",
    "    random.seed(seed)\n",
    "    np.random.seed(seed)\n",
    "    torch.manual_seed(seed)\n",
    "\n",
    "\n",
    "seed_everything(SEED)\n",
    "PAD_TOKEN = \"<|pad|>\"\n",
    "MODEL_NAME = \"meta-llama/Meta-Llama-3.1-8B-Instruct\"\n",
    "NEW_MODEL = \"Llama-3.1-8B-Instruct-Finetuned-THUIR-Rubrics\""
   ]
  },
  {
   "cell_type": "code",
   "execution_count": 7,
   "id": "4c527d21-f540-4693-81b3-56cb4dd6f36e",
   "metadata": {},
   "outputs": [],
   "source": [
    "import os\n",
    "from huggingface_hub import login\n",
    "\n",
    "login(os.getenv(\"HF_TOKEN\"))"
   ]
  },
  {
   "cell_type": "code",
   "execution_count": 8,
   "id": "161e497d-ca98-4978-b39d-887550a035ec",
   "metadata": {},
   "outputs": [
    {
     "data": {
      "application/vnd.jupyter.widget-view+json": {
       "model_id": "a27eab6630a24e318f70bd4fa470eb4c",
       "version_major": 2,
       "version_minor": 0
      },
      "text/plain": [
       "Loading checkpoint shards:   0%|          | 0/4 [00:00<?, ?it/s]"
      ]
     },
     "metadata": {},
     "output_type": "display_data"
    },
    {
     "name": "stderr",
     "output_type": "stream",
     "text": [
      "The new embeddings will be initialized from a multivariate normal distribution that has old embeddings' mean and covariance. As described in this article: https://nlp.stanford.edu/~johnhew/vocab-expansion.html. To disable this, use `mean_resizing=False`\n",
      "The new lm_head weights will be initialized from a multivariate normal distribution that has old embeddings' mean and covariance. As described in this article: https://nlp.stanford.edu/~johnhew/vocab-expansion.html. To disable this, use `mean_resizing=False`\n"
     ]
    },
    {
     "data": {
      "text/plain": [
       "Embedding(128264, 4096)"
      ]
     },
     "execution_count": 8,
     "metadata": {},
     "output_type": "execute_result"
    }
   ],
   "source": [
    "quantization_config = BitsAndBytesConfig(\n",
    "    load_in_4bit=True, bnb_4bit_quant_type=\"nf4\", bnb_4bit_compute_dtype=torch.bfloat16\n",
    ")\n",
    "\n",
    "tokenizer = AutoTokenizer.from_pretrained(MODEL_NAME, use_fast=True)\n",
    "tokenizer.add_special_tokens({\"pad_token\": PAD_TOKEN})\n",
    "tokenizer.padding_side = \"right\"\n",
    "\n",
    "model = AutoModelForCausalLM.from_pretrained(\n",
    "    MODEL_NAME,\n",
    "    quantization_config=quantization_config,\n",
    "    #     attn_implementation=\"flash_attention_2\",\n",
    "    #     attn_implementation=\"sdpa\",\n",
    "    device_map=\"auto\",\n",
    ")\n",
    "model.resize_token_embeddings(len(tokenizer), pad_to_multiple_of=8)"
   ]
  },
  {
   "cell_type": "code",
   "execution_count": 9,
   "id": "28bdcdfb-7971-402b-a49b-037b5cbe813b",
   "metadata": {},
   "outputs": [
    {
     "data": {
      "text/plain": [
       "LlamaConfig {\n",
       "  \"_attn_implementation_autoset\": true,\n",
       "  \"_name_or_path\": \"meta-llama/Meta-Llama-3.1-8B-Instruct\",\n",
       "  \"architectures\": [\n",
       "    \"LlamaForCausalLM\"\n",
       "  ],\n",
       "  \"attention_bias\": false,\n",
       "  \"attention_dropout\": 0.0,\n",
       "  \"bos_token_id\": 128000,\n",
       "  \"eos_token_id\": [\n",
       "    128001,\n",
       "    128008,\n",
       "    128009\n",
       "  ],\n",
       "  \"head_dim\": 128,\n",
       "  \"hidden_act\": \"silu\",\n",
       "  \"hidden_size\": 4096,\n",
       "  \"initializer_range\": 0.02,\n",
       "  \"intermediate_size\": 14336,\n",
       "  \"max_position_embeddings\": 131072,\n",
       "  \"mlp_bias\": false,\n",
       "  \"model_type\": \"llama\",\n",
       "  \"num_attention_heads\": 32,\n",
       "  \"num_hidden_layers\": 32,\n",
       "  \"num_key_value_heads\": 8,\n",
       "  \"pretraining_tp\": 1,\n",
       "  \"quantization_config\": {\n",
       "    \"_load_in_4bit\": true,\n",
       "    \"_load_in_8bit\": false,\n",
       "    \"bnb_4bit_compute_dtype\": \"bfloat16\",\n",
       "    \"bnb_4bit_quant_storage\": \"uint8\",\n",
       "    \"bnb_4bit_quant_type\": \"nf4\",\n",
       "    \"bnb_4bit_use_double_quant\": false,\n",
       "    \"llm_int8_enable_fp32_cpu_offload\": false,\n",
       "    \"llm_int8_has_fp16_weight\": false,\n",
       "    \"llm_int8_skip_modules\": null,\n",
       "    \"llm_int8_threshold\": 6.0,\n",
       "    \"load_in_4bit\": true,\n",
       "    \"load_in_8bit\": false,\n",
       "    \"quant_method\": \"bitsandbytes\"\n",
       "  },\n",
       "  \"rms_norm_eps\": 1e-05,\n",
       "  \"rope_scaling\": {\n",
       "    \"factor\": 8.0,\n",
       "    \"high_freq_factor\": 4.0,\n",
       "    \"low_freq_factor\": 1.0,\n",
       "    \"original_max_position_embeddings\": 8192,\n",
       "    \"rope_type\": \"llama3\"\n",
       "  },\n",
       "  \"rope_theta\": 500000.0,\n",
       "  \"tie_word_embeddings\": false,\n",
       "  \"torch_dtype\": \"bfloat16\",\n",
       "  \"transformers_version\": \"4.48.3\",\n",
       "  \"use_cache\": true,\n",
       "  \"vocab_size\": 128264\n",
       "}"
      ]
     },
     "execution_count": 9,
     "metadata": {},
     "output_type": "execute_result"
    }
   ],
   "source": [
    "model.config"
   ]
  },
  {
   "cell_type": "code",
   "execution_count": 10,
   "id": "2048f342-6b9c-43a1-a0ee-f308f1652d53",
   "metadata": {},
   "outputs": [
    {
     "data": {
      "text/plain": [
       "('<|begin_of_text|>', 128000)"
      ]
     },
     "execution_count": 10,
     "metadata": {},
     "output_type": "execute_result"
    }
   ],
   "source": [
    "tokenizer.bos_token, tokenizer.bos_token_id"
   ]
  },
  {
   "cell_type": "code",
   "execution_count": 11,
   "id": "c91602dd-c231-48b3-b413-377d10b681e6",
   "metadata": {},
   "outputs": [
    {
     "data": {
      "text/plain": [
       "('<|eot_id|>', 128009)"
      ]
     },
     "execution_count": 11,
     "metadata": {},
     "output_type": "execute_result"
    }
   ],
   "source": [
    "tokenizer.eos_token, tokenizer.eos_token_id"
   ]
  },
  {
   "cell_type": "code",
   "execution_count": 12,
   "id": "514d0626-e5ef-4e66-bf2e-12531a7d889c",
   "metadata": {},
   "outputs": [
    {
     "data": {
      "text/plain": [
       "('<|pad|>', 128256)"
      ]
     },
     "execution_count": 12,
     "metadata": {},
     "output_type": "execute_result"
    }
   ],
   "source": [
    "tokenizer.pad_token, tokenizer.pad_token_id"
   ]
  },
  {
   "cell_type": "code",
   "execution_count": 13,
   "id": "cbdbbc49-3bb0-44c0-a3de-193053d7e413",
   "metadata": {},
   "outputs": [
    {
     "data": {
      "text/plain": [
       "128256"
      ]
     },
     "execution_count": 13,
     "metadata": {},
     "output_type": "execute_result"
    }
   ],
   "source": [
    "tokenizer.convert_tokens_to_ids(PAD_TOKEN)"
   ]
  },
  {
   "cell_type": "markdown",
   "id": "ad350c8e-4d3e-48cb-98ea-d83fcfb242f5",
   "metadata": {},
   "source": [
    "# DATASET LOAD FROM HUGGINGFACE"
   ]
  },
  {
   "cell_type": "code",
   "execution_count": 18,
   "id": "c729cea1-5956-44dc-ba4f-2a346d89de1f",
   "metadata": {},
   "outputs": [
    {
     "name": "stdout",
     "output_type": "stream",
     "text": [
      "Requirement already satisfied: datasets in /home/ec2-user/anaconda3/envs/python3/lib/python3.10/site-packages (2.20.0)\n",
      "Collecting datasets\n",
      "  Downloading datasets-3.5.0-py3-none-any.whl.metadata (19 kB)\n",
      "Requirement already satisfied: pandas in /home/ec2-user/anaconda3/envs/python3/lib/python3.10/site-packages (1.5.3)\n",
      "Collecting pandas\n",
      "  Downloading pandas-2.2.3-cp310-cp310-manylinux_2_17_x86_64.manylinux2014_x86_64.whl.metadata (89 kB)\n",
      "Requirement already satisfied: pyarrow in /home/ec2-user/anaconda3/envs/python3/lib/python3.10/site-packages (19.0.0)\n",
      "Collecting pyarrow\n",
      "  Downloading pyarrow-19.0.1-cp310-cp310-manylinux_2_17_x86_64.manylinux2014_x86_64.whl.metadata (3.3 kB)\n",
      "Requirement already satisfied: filelock in /home/ec2-user/anaconda3/envs/python3/lib/python3.10/site-packages (from datasets) (3.17.0)\n",
      "Requirement already satisfied: numpy>=1.17 in /home/ec2-user/anaconda3/envs/python3/lib/python3.10/site-packages (from datasets) (1.26.4)\n",
      "Collecting dill<0.3.9,>=0.3.0 (from datasets)\n",
      "  Using cached dill-0.3.8-py3-none-any.whl.metadata (10 kB)\n",
      "Requirement already satisfied: requests>=2.32.2 in /home/ec2-user/anaconda3/envs/python3/lib/python3.10/site-packages (from datasets) (2.32.3)\n",
      "Requirement already satisfied: tqdm>=4.66.3 in /home/ec2-user/anaconda3/envs/python3/lib/python3.10/site-packages (from datasets) (4.67.1)\n",
      "Requirement already satisfied: xxhash in /home/ec2-user/anaconda3/envs/python3/lib/python3.10/site-packages (from datasets) (3.5.0)\n",
      "Collecting multiprocess<0.70.17 (from datasets)\n",
      "  Using cached multiprocess-0.70.16-py310-none-any.whl.metadata (7.2 kB)\n",
      "Requirement already satisfied: fsspec<=2024.12.0,>=2023.1.0 in /home/ec2-user/anaconda3/envs/python3/lib/python3.10/site-packages (from fsspec[http]<=2024.12.0,>=2023.1.0->datasets) (2024.5.0)\n",
      "Requirement already satisfied: aiohttp in /home/ec2-user/anaconda3/envs/python3/lib/python3.10/site-packages (from datasets) (3.11.12)\n",
      "Requirement already satisfied: huggingface-hub>=0.24.0 in /home/ec2-user/anaconda3/envs/python3/lib/python3.10/site-packages (from datasets) (0.29.3)\n",
      "Requirement already satisfied: packaging in /home/ec2-user/anaconda3/envs/python3/lib/python3.10/site-packages (from datasets) (21.3)\n",
      "Requirement already satisfied: pyyaml>=5.1 in /home/ec2-user/anaconda3/envs/python3/lib/python3.10/site-packages (from datasets) (6.0.2)\n",
      "Requirement already satisfied: python-dateutil>=2.8.2 in /home/ec2-user/anaconda3/envs/python3/lib/python3.10/site-packages (from pandas) (2.9.0.post0)\n",
      "Requirement already satisfied: pytz>=2020.1 in /home/ec2-user/anaconda3/envs/python3/lib/python3.10/site-packages (from pandas) (2025.1)\n",
      "Collecting tzdata>=2022.7 (from pandas)\n",
      "  Downloading tzdata-2025.2-py2.py3-none-any.whl.metadata (1.4 kB)\n",
      "Requirement already satisfied: aiohappyeyeballs>=2.3.0 in /home/ec2-user/anaconda3/envs/python3/lib/python3.10/site-packages (from aiohttp->datasets) (2.4.6)\n",
      "Requirement already satisfied: aiosignal>=1.1.2 in /home/ec2-user/anaconda3/envs/python3/lib/python3.10/site-packages (from aiohttp->datasets) (1.3.2)\n",
      "Requirement already satisfied: async-timeout<6.0,>=4.0 in /home/ec2-user/anaconda3/envs/python3/lib/python3.10/site-packages (from aiohttp->datasets) (5.0.1)\n",
      "Requirement already satisfied: attrs>=17.3.0 in /home/ec2-user/anaconda3/envs/python3/lib/python3.10/site-packages (from aiohttp->datasets) (23.2.0)\n",
      "Requirement already satisfied: frozenlist>=1.1.1 in /home/ec2-user/anaconda3/envs/python3/lib/python3.10/site-packages (from aiohttp->datasets) (1.5.0)\n",
      "Requirement already satisfied: multidict<7.0,>=4.5 in /home/ec2-user/anaconda3/envs/python3/lib/python3.10/site-packages (from aiohttp->datasets) (6.1.0)\n",
      "Requirement already satisfied: propcache>=0.2.0 in /home/ec2-user/anaconda3/envs/python3/lib/python3.10/site-packages (from aiohttp->datasets) (0.2.1)\n",
      "Requirement already satisfied: yarl<2.0,>=1.17.0 in /home/ec2-user/anaconda3/envs/python3/lib/python3.10/site-packages (from aiohttp->datasets) (1.18.3)\n",
      "Requirement already satisfied: typing-extensions>=3.7.4.3 in /home/ec2-user/anaconda3/envs/python3/lib/python3.10/site-packages (from huggingface-hub>=0.24.0->datasets) (4.12.2)\n",
      "Requirement already satisfied: pyparsing!=3.0.5,>=2.0.2 in /home/ec2-user/anaconda3/envs/python3/lib/python3.10/site-packages (from packaging->datasets) (3.2.1)\n",
      "Requirement already satisfied: six>=1.5 in /home/ec2-user/anaconda3/envs/python3/lib/python3.10/site-packages (from python-dateutil>=2.8.2->pandas) (1.17.0)\n",
      "Requirement already satisfied: charset_normalizer<4,>=2 in /home/ec2-user/anaconda3/envs/python3/lib/python3.10/site-packages (from requests>=2.32.2->datasets) (3.4.1)\n",
      "Requirement already satisfied: idna<4,>=2.5 in /home/ec2-user/anaconda3/envs/python3/lib/python3.10/site-packages (from requests>=2.32.2->datasets) (3.10)\n",
      "Requirement already satisfied: urllib3<3,>=1.21.1 in /home/ec2-user/anaconda3/envs/python3/lib/python3.10/site-packages (from requests>=2.32.2->datasets) (2.3.0)\n",
      "Requirement already satisfied: certifi>=2017.4.17 in /home/ec2-user/anaconda3/envs/python3/lib/python3.10/site-packages (from requests>=2.32.2->datasets) (2025.1.31)\n",
      "Downloading datasets-3.5.0-py3-none-any.whl (491 kB)\n",
      "Downloading pandas-2.2.3-cp310-cp310-manylinux_2_17_x86_64.manylinux2014_x86_64.whl (13.1 MB)\n",
      "\u001b[2K   \u001b[90m━━━━━━━━━━━━━━━━━━━━━━━━━━━━━━━━━━━━━━━━\u001b[0m \u001b[32m13.1/13.1 MB\u001b[0m \u001b[31m44.1 MB/s\u001b[0m eta \u001b[36m0:00:00\u001b[0m:00:01\u001b[0m\n",
      "Downloading pyarrow-19.0.1-cp310-cp310-manylinux_2_17_x86_64.manylinux2014_x86_64.whl (42.2 MB)\n",
      "\u001b[2K   \u001b[90m━━━━━━━━━━━━━━━━━━━━━━━━━━━━━━━━━━━━━━━━\u001b[0m \u001b[32m42.2/42.2 MB\u001b[0m \u001b[31m73.5 MB/s\u001b[0m eta \u001b[36m0:00:00\u001b[0m:00:01\u001b[0m\n",
      "\u001b[?25hUsing cached dill-0.3.8-py3-none-any.whl (116 kB)\n",
      "Using cached multiprocess-0.70.16-py310-none-any.whl (134 kB)\n",
      "Downloading tzdata-2025.2-py2.py3-none-any.whl (347 kB)\n",
      "Installing collected packages: tzdata, pyarrow, dill, pandas, multiprocess, datasets\n",
      "  Attempting uninstall: pyarrow\n",
      "    Found existing installation: pyarrow 19.0.0\n",
      "    Uninstalling pyarrow-19.0.0:\n",
      "      Successfully uninstalled pyarrow-19.0.0\n",
      "  Attempting uninstall: dill\n",
      "    Found existing installation: dill 0.3.9\n",
      "    Uninstalling dill-0.3.9:\n",
      "      Successfully uninstalled dill-0.3.9\n",
      "  Attempting uninstall: pandas\n",
      "    Found existing installation: pandas 1.5.3\n",
      "    Uninstalling pandas-1.5.3:\n",
      "      Successfully uninstalled pandas-1.5.3\n",
      "  Attempting uninstall: multiprocess\n",
      "    Found existing installation: multiprocess 0.70.17\n",
      "    Uninstalling multiprocess-0.70.17:\n",
      "      Successfully uninstalled multiprocess-0.70.17\n",
      "  Attempting uninstall: datasets\n",
      "    Found existing installation: datasets 2.20.0\n",
      "    Uninstalling datasets-2.20.0:\n",
      "      Successfully uninstalled datasets-2.20.0\n",
      "Successfully installed datasets-3.5.0 dill-0.3.8 multiprocess-0.70.16 pandas-2.2.3 pyarrow-19.0.1 tzdata-2025.2\n"
     ]
    }
   ],
   "source": [
    "!pip install -U datasets pandas pyarrow"
   ]
  },
  {
   "cell_type": "code",
   "execution_count": 14,
   "id": "478e9655-6847-453a-a92d-87a2ae12d773",
   "metadata": {},
   "outputs": [
    {
     "data": {
      "application/vnd.jupyter.widget-view+json": {
       "model_id": "89f884e2a9bc42738f2e7d3feb4a9ac6",
       "version_major": 2,
       "version_minor": 0
      },
      "text/plain": [
       "THUIR_finetune_dataset_rubrics.json:   0%|          | 0.00/4.94M [00:00<?, ?B/s]"
      ]
     },
     "metadata": {},
     "output_type": "display_data"
    },
    {
     "data": {
      "application/vnd.jupyter.widget-view+json": {
       "model_id": "d5d14e34804c467bb2cccac2306fb062",
       "version_major": 2,
       "version_minor": 0
      },
      "text/plain": [
       "Generating train split: 0 examples [00:00, ? examples/s]"
      ]
     },
     "metadata": {},
     "output_type": "display_data"
    },
    {
     "name": "stdout",
     "output_type": "stream",
     "text": [
      "DatasetDict({\n",
      "    train: Dataset({\n",
      "        features: ['id', 'instruction', 'input', 'usefulness_score'],\n",
      "        num_rows: 3046\n",
      "    })\n",
      "})\n"
     ]
    }
   ],
   "source": [
    "from datasets import load_dataset\n",
    "\n",
    "dataset = load_dataset(\"json\", data_files=\"https://huggingface.co/datasets/moulydewan/THUIR_finetune_dataset_rubrics/resolve/main/THUIR_finetune_dataset_rubrics.json\")\n",
    "print(dataset)"
   ]
  },
  {
   "cell_type": "code",
   "execution_count": 15,
   "id": "f8eceab0-e587-4c44-b481-79cf51632a21",
   "metadata": {},
   "outputs": [
    {
     "data": {
      "text/plain": [
       "{'id': [1, 2, 3, 4, 5],\n",
       " 'instruction': ['Evaluate the usefulness of a search result based on the given search session data and assign a usefulness score from 0 to 3.',\n",
       "  'Evaluate the usefulness of a search result based on the given search session data and assign a usefulness score from 0 to 3.',\n",
       "  'Evaluate the usefulness of a search result based on the given search session data and assign a usefulness score from 0 to 3.',\n",
       "  'Evaluate the usefulness of a search result based on the given search session data and assign a usefulness score from 0 to 3.',\n",
       "  'Evaluate the usefulness of a search result based on the given search session data and assign a usefulness score from 0 to 3.'],\n",
       " 'input': ['\\nUser ID: 1701110210 is performing a search task id: 1 where User has been asked to search for a method for playing an icebreaker game suitable for new employee training with about ten people. Based on the search results, user needs to identify the name of the icebreaker game that impresses them the most and describe in one sentence what preparations are needed for this game.\\nTask Dwell Time: 84.7 ms\\nTask Satisfaction Score: 5\\n\\nFor this task, user submitted query: \"Suitable for new employee training. An icebreaker game involving about ten people.\"\\nQuery Position: 1\\nQuery Dwell Time: 34.39 ms\\nQuery Satisfaction Score: 5\\n\\nRetrieved Document: \\nUnique ID: 1\\nURL: http://www.unjs.com/fanwenwang/ziliao/376728.html\\nTitle: \"Team Icebreaker Games for Employee Training\"\\nContent: \"Introduction: Generally, the game books we buy will classify the games. Then I will find roughly related games in the classification according to the needs of the course and choose them as team icebreaker games for employee training. The following is a collection of recent graduates...\"\\nRank: 1\\nTask Relevance: 3\\nQuery Relevance: 3\\n\\nUser Interaction:\\nUser spent 2.52 ms on the document.\\nUser spent on average 2.37 ms on all clicked documents.\\nDocument\\'s click-through rate (CTR) is 0.33\\n\\n',\n",
       "  '\\nUser ID: 1701110210 is performing a search task id: 1 where User has been asked to search for a method for playing an icebreaker game suitable for new employee training with about ten people. Based on the search results, user needs to identify the name of the icebreaker game that impresses them the most and describe in one sentence what preparations are needed for this game.\\nTask Dwell Time: 84.7 ms\\nTask Satisfaction Score: 5\\n\\nFor this task, user submitted query: \"Suitable for new employee training. An icebreaker game involving about ten people.\"\\nQuery Position: 1\\nQuery Dwell Time: 34.39 ms\\nQuery Satisfaction Score: 5\\n\\nRetrieved Document: \\nUnique ID: 2\\nURL: http://www.360doc.com/content/16/0905/08/8102575_588493530.shtml\\nTitle: \"15 Games to Use During Employee Training\"\\nContent: \"Inserting games into training can be entertaining, experiential, participatory, lively, and ice-breaking, etc. However, you need to have a certain amount of time to control the game each time you play it, so it is suitable to play it in your leisure time.\"\\nRank: 3\\nTask Relevance: 2\\nQuery Relevance: 2\\n\\nUser Interaction:\\nUser spent 1.77 ms on the document.\\nUser spent on average 2.37 ms on all clicked documents.\\nDocument\\'s click-through rate (CTR) is 0.33\\n\\n',\n",
       "  '\\nUser ID: 1701110210 is performing a search task id: 1 where User has been asked to search for a method for playing an icebreaker game suitable for new employee training with about ten people. Based on the search results, user needs to identify the name of the icebreaker game that impresses them the most and describe in one sentence what preparations are needed for this game.\\nTask Dwell Time: 84.7 ms\\nTask Satisfaction Score: 5\\n\\nFor this task, user submitted query: \"Suitable for new employee training. An icebreaker game involving about ten people.\"\\nQuery Position: 1\\nQuery Dwell Time: 34.39 ms\\nQuery Satisfaction Score: 5\\n\\nRetrieved Document: \\nUnique ID: 3\\nURL: http://doc.mbalib.com/view/2f1733e212202eb7fe1fcb08ff87b01c.html\\nTitle: \"Team Building - Ice Breaking Games - MBA Think Tank Documentation\"\\nContent: \"So I won\\'t mind it as much as before. Tips: Number of participants: 5-10 people in a group Time: 3-5 minutes Materials: Use... A 2-5 day training can teach complex icebreaker games, and a quick exercise of a few minutes is suitable for a course of less than one day. ...\"\\nRank: 7\\nTask Relevance: 3\\nQuery Relevance: 2\\n\\nUser Interaction:\\nUser spent 1.97 ms on the document.\\nUser spent on average 2.37 ms on all clicked documents.\\nDocument\\'s click-through rate (CTR) is 0.2\\n\\n',\n",
       "  '\\nUser ID: 1701110210 is performing a search task id: 1 where User has been asked to search for a method for playing an icebreaker game suitable for new employee training with about ten people. Based on the search results, user needs to identify the name of the icebreaker game that impresses them the most and describe in one sentence what preparations are needed for this game.\\nTask Dwell Time: 84.7 ms\\nTask Satisfaction Score: 5\\n\\nFor this task, user submitted query: \"Suitable for new employee training. An icebreaker game involving about ten people.\"\\nQuery Position: 1\\nQuery Dwell Time: 34.39 ms\\nQuery Satisfaction Score: 5\\n\\nRetrieved Document: \\nUnique ID: 4\\nURL: http://www.weixinyidu.com/n_2130466\\nTitle: \"Classic ice-breaking games before the training session (simple and easy to operate)_Trainer Community Official Account Latest...\"\\nContent: \"09-10 Collection It has been a while since I shared articles about training games with you. I often receive questions from friends about \"breaking the ice\"... 2. Participants can automatically design actions to expand participation. Finger exchange - develop the brain, refresh the mind Game purpose...\"\\nRank: 8\\nTask Relevance: 2\\nQuery Relevance: 2\\n\\nUser Interaction:\\nUser spent 2.14 ms on the document.\\nUser spent on average 2.37 ms on all clicked documents.\\nDocument\\'s click-through rate (CTR) is 0.33\\n\\n',\n",
       "  '\\nUser ID: 1701110210 is performing a search task id: 1 where User has been asked to search for a method for playing an icebreaker game suitable for new employee training with about ten people. Based on the search results, user needs to identify the name of the icebreaker game that impresses them the most and describe in one sentence what preparations are needed for this game.\\nTask Dwell Time: 84.7 ms\\nTask Satisfaction Score: 5\\n\\nFor this task, user submitted query: \"Suitable for new employee training. An icebreaker game involving about ten people.\"\\nQuery Position: 1\\nQuery Dwell Time: 34.39 ms\\nQuery Satisfaction Score: 5\\n\\nRetrieved Document: \\nUnique ID: 5\\nURL: http://doc.mbalib.com/view/2c2cb9d9594e5f9ebfa08b430a9bd822.html\\nTitle: \"23 Icebreaker Games (for Indoor and Outdoor Group Training) - MBA Think Tank Documentation\"\\nContent: \"A complete collection of indoor and outdoor group training games for icebreakers 1. Bundling to pass - (Applicable: team collaboration) Brief description: By being tied... Minimum ten people Venue: Indoor Scope of application: Suitable for friends who are familiar with the characters in the group Game method: 1. Divide into groups, each group of people...\"\\nRank: 5\\nTask Relevance: 3\\nQuery Relevance: 2\\n\\nUser Interaction:\\nUser spent 2.54 ms on the document.\\nUser spent on average 2.37 ms on all clicked documents.\\nDocument\\'s click-through rate (CTR) is 0.14\\n\\n'],\n",
       " 'usefulness_score': [3, 3, 3, 3, 3]}"
      ]
     },
     "execution_count": 15,
     "metadata": {},
     "output_type": "execute_result"
    }
   ],
   "source": [
    "dataset[\"train\"][:5]"
   ]
  },
  {
   "cell_type": "code",
   "execution_count": 16,
   "id": "546aef3e-7910-4d6d-a8c3-9501111b2e2c",
   "metadata": {},
   "outputs": [],
   "source": [
    "import pandas as pd\n",
    "rows = []\n",
    "for item in dataset[\"train\"]:\n",
    "    rows.append(\n",
    "        {\n",
    "            \"instruction\": item[\"instruction\"],\n",
    "            \"input\": item[\"input\"],\n",
    "            \"usefulness_score\": item[\"usefulness_score\"],\n",
    "        }\n",
    "    )\n",
    "df = pd.DataFrame(rows)"
   ]
  },
  {
   "cell_type": "code",
   "execution_count": 17,
   "id": "7f55bb0b-8a4f-437e-be06-d47955790574",
   "metadata": {},
   "outputs": [
    {
     "data": {
      "text/html": [
       "<div>\n",
       "<style scoped>\n",
       "    .dataframe tbody tr th:only-of-type {\n",
       "        vertical-align: middle;\n",
       "    }\n",
       "\n",
       "    .dataframe tbody tr th {\n",
       "        vertical-align: top;\n",
       "    }\n",
       "\n",
       "    .dataframe thead th {\n",
       "        text-align: right;\n",
       "    }\n",
       "</style>\n",
       "<table border=\"1\" class=\"dataframe\">\n",
       "  <thead>\n",
       "    <tr style=\"text-align: right;\">\n",
       "      <th></th>\n",
       "      <th>instruction</th>\n",
       "      <th>input</th>\n",
       "      <th>usefulness_score</th>\n",
       "    </tr>\n",
       "  </thead>\n",
       "  <tbody>\n",
       "    <tr>\n",
       "      <th>0</th>\n",
       "      <td>Evaluate the usefulness of a search result bas...</td>\n",
       "      <td>\\nUser ID: 1701110210 is performing a search t...</td>\n",
       "      <td>3</td>\n",
       "    </tr>\n",
       "    <tr>\n",
       "      <th>1</th>\n",
       "      <td>Evaluate the usefulness of a search result bas...</td>\n",
       "      <td>\\nUser ID: 1701110210 is performing a search t...</td>\n",
       "      <td>3</td>\n",
       "    </tr>\n",
       "    <tr>\n",
       "      <th>2</th>\n",
       "      <td>Evaluate the usefulness of a search result bas...</td>\n",
       "      <td>\\nUser ID: 1701110210 is performing a search t...</td>\n",
       "      <td>3</td>\n",
       "    </tr>\n",
       "    <tr>\n",
       "      <th>3</th>\n",
       "      <td>Evaluate the usefulness of a search result bas...</td>\n",
       "      <td>\\nUser ID: 1701110210 is performing a search t...</td>\n",
       "      <td>3</td>\n",
       "    </tr>\n",
       "    <tr>\n",
       "      <th>4</th>\n",
       "      <td>Evaluate the usefulness of a search result bas...</td>\n",
       "      <td>\\nUser ID: 1701110210 is performing a search t...</td>\n",
       "      <td>3</td>\n",
       "    </tr>\n",
       "  </tbody>\n",
       "</table>\n",
       "</div>"
      ],
      "text/plain": [
       "                                         instruction  \\\n",
       "0  Evaluate the usefulness of a search result bas...   \n",
       "1  Evaluate the usefulness of a search result bas...   \n",
       "2  Evaluate the usefulness of a search result bas...   \n",
       "3  Evaluate the usefulness of a search result bas...   \n",
       "4  Evaluate the usefulness of a search result bas...   \n",
       "\n",
       "                                               input  usefulness_score  \n",
       "0  \\nUser ID: 1701110210 is performing a search t...                 3  \n",
       "1  \\nUser ID: 1701110210 is performing a search t...                 3  \n",
       "2  \\nUser ID: 1701110210 is performing a search t...                 3  \n",
       "3  \\nUser ID: 1701110210 is performing a search t...                 3  \n",
       "4  \\nUser ID: 1701110210 is performing a search t...                 3  "
      ]
     },
     "execution_count": 17,
     "metadata": {},
     "output_type": "execute_result"
    }
   ],
   "source": [
    "df.head()"
   ]
  },
  {
   "cell_type": "code",
   "execution_count": 18,
   "id": "30d41de1-3068-461f-a651-e9a9ef4dd38b",
   "metadata": {},
   "outputs": [
    {
     "data": {
      "text/plain": [
       "instruction  input  usefulness_score\n",
       "False        False  False               3046\n",
       "Name: count, dtype: int64"
      ]
     },
     "execution_count": 18,
     "metadata": {},
     "output_type": "execute_result"
    }
   ],
   "source": [
    "df.isnull().value_counts()"
   ]
  },
  {
   "cell_type": "code",
   "execution_count": 19,
   "id": "3a3d1e59-ecb2-4481-b8d3-0c0e615162be",
   "metadata": {},
   "outputs": [],
   "source": [
    "from textwrap import dedent"
   ]
  },
  {
   "cell_type": "code",
   "execution_count": 22,
   "id": "67ece74c-29fc-4a8a-abcf-f15051c8ff05",
   "metadata": {},
   "outputs": [],
   "source": [
    "def format_example(row: dict):\n",
    "    prompt = dedent(\n",
    "f\"\"\"\n",
    "{row[\"instruction\"]}\n",
    "\n",
    "Information:\n",
    "\n",
    "```\n",
    "{row[\"input\"]}\n",
    "```\n",
    "\n",
    "Based on the above information, output only one integer from 0 to 3 indicating usefulness score. DO NOT PROVIDE ADDITIONAL TEXT, REASONING, EXAMPLES, OR CODE.\n",
    "\n",
    "Response Format: [Usefulness Score]\n",
    "\"\"\"\n",
    "    )\n",
    "    messages = [\n",
    "        {\n",
    "            \"role\": \"system\",\n",
    "            \"content\": dedent(\n",
    "                \"\"\"\n",
    "**Task:**\n",
    "You are a search quality rater evaluating the usefulness of clicked documents based on the following information:\n",
    "\n",
    "a. User ID: Unique user ID\n",
    "b. Task Description: A clear explanation of what the user tries to accomplish using the search engine.\n",
    "c. Task Dwell Time (ms): Time spent on a specific task across all queries and clicked documents.\n",
    "d. Task Satisfaction: User’s satisfaction on overall task labeled as 1(low)~5(high).\n",
    "e. Query: User submitted query.\n",
    "f. Query Position: The sequential order of the query within the task session, indicating when it was submitted relative to other queries.\n",
    "g. Query Dwell Time (ms): Time spent on a specific query.\n",
    "h. Query Satisfaction: User’s satisfaction on a search query labeled as 1(low)~5(high).\n",
    "i. ID: Unique ID for each row.\n",
    "j. Clicked Documents: User clicked URL.\n",
    "k. Title: Title of the clicked documents.\n",
    "l. Summary: Brief description of the clicked documents on the web page.\n",
    "m. Rank: Rank of clicked documents on the SERP labeled as 1(high)~30(low).\n",
    "n. Task Relevance: Relevance of clicked documents to the user’s task labeled as 0 (low)~3 (high).\n",
    "o. Query Relevance: Relevance of clicked documents to the user’s query labeled as 0 (low)~3 (high).\n",
    "p. CTR: The percentage of clicks a document (URL) receives out of total interactions within a specific task and query.\n",
    "q. URL Dwell Time (ms): Time spent on a clicked document.\n",
    "r. Average URL Dwell Time (ms): Average time a user sepnds across all clicked document on individual task.\n",
    "\n",
    "You must analyze each task session by considering all the information given above and for each clicked document (URL), provide a usefulness score on an integer scale of 0 to 3 with the following meanings:\n",
    "3 = Very Useful, very helpful for this query\n",
    "2 = Fairly Useful, fairly helpful for this query\n",
    "1 = Somewhat Useful, maybe partly helpful but might contain other irrelevant content\n",
    "0 = Not Useful at all, should never be shown for this query\n",
    "\n",
    "**Instructions:**\n",
    "For each clicked documents <URL> under a specific task <TASK_ID> and user <USER>, use the following rubrics while assigning usefulness score:\n",
    "\n",
    "Score 3: Very Useful\n",
    "- Relevance Criteria:\n",
    "   - Task Relevance: 2–3, Query Relevance: 2–3.\n",
    "- Satisfaction Criteria:\n",
    "   - Task and Query Satisfaction: 4–5.\n",
    "- User Behavior Metrics:\n",
    "   - Dwell Time: Above average, CTR: High.\n",
    "- Title & Summary Alignment:\n",
    "   - High Alignment (>0.5) with Query and Task.\n",
    "- Exceptional Cases:\n",
    "   - High satisfaction supports high usefulness even with low relevance.\n",
    "   - High dwell time supports high usefulness even with low CTR and low relevance.\n",
    "   - Despite low alignment, some contents provide unexpected useful information.\n",
    "\n",
    "Score 2: Fairly Useful\n",
    "- Relevance Criteria:\n",
    "   - Task Relevance: 1–2, Query Relevance: 1–2.\n",
    "- Satisfaction Criteria:\n",
    "   - Task and Query Satisfaction: 3–4.\n",
    "- User Behavior Metrics:\n",
    "   - Dwell Time: Around average, CTR: Medium.\n",
    "- Title & Summary Alignment:\n",
    "   - Moderate Alignment (0.3–0.5) with Query or Task.\n",
    "- Exceptional Cases:\n",
    "   - Users found content useful but lacking depth, that lead to high relevance but fairly useful cases.\n",
    "   - Moderate engagement supports moderate usefulness when content is relevant but incomplete.\n",
    "\n",
    "Score 1: Somewhat Useful\n",
    "- Relevance Criteria:\n",
    "   - Task Relevance: 1, Query Relevance: 1.\n",
    "- Satisfaction Criteria:\n",
    "   - Task and Query Satisfaction: 2–3.\n",
    "- User Behavior Metrics:\n",
    "   - Dwell Time: Below average, CTR: Low.\n",
    "- Title & Summary Alignment:\n",
    "   - Low Alignment (<0.3) with Query or Task.\n",
    "- Exceptional Cases:\n",
    "   - Low satisfaction supports low usefulness even with high relevance.\n",
    "   - Dwell Time: Below average, CTR: Low means users clicked expecting relevance but left quickly, indicating lack of depth and low usefulness.\n",
    "   - Misleading title-query match leads to high relevance and low usefulness cases.\n",
    "\n",
    "Score 0: Not Useful\n",
    "- Relevance Criteria:\n",
    "   - Task Relevance: 0, Query Relevance: 0.\n",
    "- Satisfaction Criteria:\n",
    "   - Task and Query Satisfaction: 1–2.\n",
    "- User Behavior Metrics:\n",
    "   - Dwell Time: Minimal, CTR: Very Low.\n",
    "- Title & Summary Alignment:\n",
    "   - No Alignment (<0.2) with Query or Task.\n",
    "   - Low alignment with high usefulness indicates LR-HU.\n",
    "- Exceptional Cases:\n",
    "   - Very low satisfaction confirms low relevance and low usefulness cases.\n",
    "   - Dwell Time: Minimal, CTR: Very Low means users abandoned the page quickly due to irrelevance leading to low usefulness.\n",
    "   - Low dwell time with high CTR indicates low usefulness even with high relevance.\n",
    "   - No Alignment (<0.2) with Query or Task means vontent is completely off-topic, reinforcing low relevance and low usefulness cases.\n",
    "   \n",
    "Take a step back and reflect carefully on how best to solve your task. Understand the entire rubrics first and then decide on the usefulness scores analyzing the metrics. Directly output the usefulness score for unique ID <ID> as an integer value in the format:\n",
    "[Usefulness Score]\n",
    "\n",
    "DO NOT PROVIDE ADDITIONAL TEXT, REASONING, EXAMPLE, OR CODE. GENERATE USEFULNESS SCORE IN COORECT OUTPUT FORMAT FOR ALL UNIQUE ID.\n",
    "\"\"\"\n",
    "            ),\n",
    "        },\n",
    "        {\"role\": \"user\", \"content\": prompt},\n",
    "        {\"role\": \"assistant\", \"content\": str(row[\"usefulness_score\"])},  # Convert to string\n",
    "    ]\n",
    "    return tokenizer.apply_chat_template(messages, tokenize=False)"
   ]
  },
  {
   "cell_type": "code",
   "execution_count": 23,
   "id": "01f361b2-ec30-474d-be91-b33ef902fa50",
   "metadata": {},
   "outputs": [],
   "source": [
    "df[\"text\"] = df.apply(format_example, axis=1)"
   ]
  },
  {
   "cell_type": "code",
   "execution_count": 24,
   "id": "a73f14fd-ebd9-4002-9fd3-219a4c977352",
   "metadata": {},
   "outputs": [],
   "source": [
    "from typing import Dict\n",
    "\n",
    "def count_tokens(row: Dict) -> int:\n",
    "    return len(\n",
    "        tokenizer(\n",
    "            row[\"text\"],\n",
    "            add_special_tokens=True,\n",
    "            return_attention_mask=False,\n",
    "        )[\"input_ids\"]\n",
    "    )"
   ]
  },
  {
   "cell_type": "code",
   "execution_count": 25,
   "id": "9fdd8fd8-b905-4c98-b2f6-89e52266bbf0",
   "metadata": {},
   "outputs": [],
   "source": [
    "df[\"token_count\"] = df.apply(count_tokens, axis=1)"
   ]
  },
  {
   "cell_type": "code",
   "execution_count": 26,
   "id": "3da20c10-e2ef-476b-a54e-85ad6b7b8ee3",
   "metadata": {},
   "outputs": [
    {
     "data": {
      "text/html": [
       "<div>\n",
       "<style scoped>\n",
       "    .dataframe tbody tr th:only-of-type {\n",
       "        vertical-align: middle;\n",
       "    }\n",
       "\n",
       "    .dataframe tbody tr th {\n",
       "        vertical-align: top;\n",
       "    }\n",
       "\n",
       "    .dataframe thead th {\n",
       "        text-align: right;\n",
       "    }\n",
       "</style>\n",
       "<table border=\"1\" class=\"dataframe\">\n",
       "  <thead>\n",
       "    <tr style=\"text-align: right;\">\n",
       "      <th></th>\n",
       "      <th>instruction</th>\n",
       "      <th>input</th>\n",
       "      <th>usefulness_score</th>\n",
       "      <th>text</th>\n",
       "      <th>token_count</th>\n",
       "    </tr>\n",
       "  </thead>\n",
       "  <tbody>\n",
       "    <tr>\n",
       "      <th>0</th>\n",
       "      <td>Evaluate the usefulness of a search result bas...</td>\n",
       "      <td>\\nUser ID: 1701110210 is performing a search t...</td>\n",
       "      <td>3</td>\n",
       "      <td>&lt;|begin_of_text|&gt;&lt;|start_header_id|&gt;system&lt;|en...</td>\n",
       "      <td>1594</td>\n",
       "    </tr>\n",
       "    <tr>\n",
       "      <th>1</th>\n",
       "      <td>Evaluate the usefulness of a search result bas...</td>\n",
       "      <td>\\nUser ID: 1701110210 is performing a search t...</td>\n",
       "      <td>3</td>\n",
       "      <td>&lt;|begin_of_text|&gt;&lt;|start_header_id|&gt;system&lt;|en...</td>\n",
       "      <td>1606</td>\n",
       "    </tr>\n",
       "    <tr>\n",
       "      <th>2</th>\n",
       "      <td>Evaluate the usefulness of a search result bas...</td>\n",
       "      <td>\\nUser ID: 1701110210 is performing a search t...</td>\n",
       "      <td>3</td>\n",
       "      <td>&lt;|begin_of_text|&gt;&lt;|start_header_id|&gt;system&lt;|en...</td>\n",
       "      <td>1628</td>\n",
       "    </tr>\n",
       "    <tr>\n",
       "      <th>3</th>\n",
       "      <td>Evaluate the usefulness of a search result bas...</td>\n",
       "      <td>\\nUser ID: 1701110210 is performing a search t...</td>\n",
       "      <td>3</td>\n",
       "      <td>&lt;|begin_of_text|&gt;&lt;|start_header_id|&gt;system&lt;|en...</td>\n",
       "      <td>1609</td>\n",
       "    </tr>\n",
       "    <tr>\n",
       "      <th>4</th>\n",
       "      <td>Evaluate the usefulness of a search result bas...</td>\n",
       "      <td>\\nUser ID: 1701110210 is performing a search t...</td>\n",
       "      <td>3</td>\n",
       "      <td>&lt;|begin_of_text|&gt;&lt;|start_header_id|&gt;system&lt;|en...</td>\n",
       "      <td>1639</td>\n",
       "    </tr>\n",
       "  </tbody>\n",
       "</table>\n",
       "</div>"
      ],
      "text/plain": [
       "                                         instruction  \\\n",
       "0  Evaluate the usefulness of a search result bas...   \n",
       "1  Evaluate the usefulness of a search result bas...   \n",
       "2  Evaluate the usefulness of a search result bas...   \n",
       "3  Evaluate the usefulness of a search result bas...   \n",
       "4  Evaluate the usefulness of a search result bas...   \n",
       "\n",
       "                                               input  usefulness_score  \\\n",
       "0  \\nUser ID: 1701110210 is performing a search t...                 3   \n",
       "1  \\nUser ID: 1701110210 is performing a search t...                 3   \n",
       "2  \\nUser ID: 1701110210 is performing a search t...                 3   \n",
       "3  \\nUser ID: 1701110210 is performing a search t...                 3   \n",
       "4  \\nUser ID: 1701110210 is performing a search t...                 3   \n",
       "\n",
       "                                                text  token_count  \n",
       "0  <|begin_of_text|><|start_header_id|>system<|en...         1594  \n",
       "1  <|begin_of_text|><|start_header_id|>system<|en...         1606  \n",
       "2  <|begin_of_text|><|start_header_id|>system<|en...         1628  \n",
       "3  <|begin_of_text|><|start_header_id|>system<|en...         1609  \n",
       "4  <|begin_of_text|><|start_header_id|>system<|en...         1639  "
      ]
     },
     "execution_count": 26,
     "metadata": {},
     "output_type": "execute_result"
    }
   ],
   "source": [
    "df.head()"
   ]
  },
  {
   "cell_type": "code",
   "execution_count": 27,
   "id": "b03a8b7a-58fc-4b26-9c43-057295557e7e",
   "metadata": {},
   "outputs": [
    {
     "name": "stdout",
     "output_type": "stream",
     "text": [
      "<|begin_of_text|><|start_header_id|>system<|end_header_id|>\n",
      "\n",
      "Cutting Knowledge Date: December 2023\n",
      "Today Date: 26 Jul 2024\n",
      "\n",
      "**Task:**\n",
      "You are a search quality rater evaluating the usefulness of clicked documents based on the following information:\n",
      "\n",
      "a. User ID: Unique user ID\n",
      "b. Task Description: A clear explanation of what the user tries to accomplish using the search engine.\n",
      "c. Task Dwell Time (ms): Time spent on a specific task across all queries and clicked documents.\n",
      "d. Task Satisfaction: User’s satisfaction on overall task labeled as 1(low)~5(high).\n",
      "e. Query: User submitted query.\n",
      "f. Query Position: The sequential order of the query within the task session, indicating when it was submitted relative to other queries.\n",
      "g. Query Dwell Time (ms): Time spent on a specific query.\n",
      "h. Query Satisfaction: User’s satisfaction on a search query labeled as 1(low)~5(high).\n",
      "i. ID: Unique ID for each row.\n",
      "j. Clicked Documents: User clicked URL.\n",
      "k. Title: Title of the clicked documents.\n",
      "l. Summary: Brief description of the clicked documents on the web page.\n",
      "m. Rank: Rank of clicked documents on the SERP labeled as 1(high)~30(low).\n",
      "n. Task Relevance: Relevance of clicked documents to the user’s task labeled as 0 (low)~3 (high).\n",
      "o. Query Relevance: Relevance of clicked documents to the user’s query labeled as 0 (low)~3 (high).\n",
      "p. CTR: The percentage of clicks a document (URL) receives out of total interactions within a specific task and query.\n",
      "q. URL Dwell Time (ms): Time spent on a clicked document.\n",
      "r. Average URL Dwell Time (ms): Average time a user sepnds across all clicked document on individual task.\n",
      "\n",
      "You must analyze each task session by considering all the information given above and for each clicked document (URL), provide a usefulness score on an integer scale of 0 to 3 with the following meanings:\n",
      "3 = Very Useful, very helpful for this query\n",
      "2 = Fairly Useful, fairly helpful for this query\n",
      "1 = Somewhat Useful, maybe partly helpful but might contain other irrelevant content\n",
      "0 = Not Useful at all, should never be shown for this query\n",
      "\n",
      "**Instructions:**\n",
      "For each clicked documents <URL> under a specific task <TASK_ID> and user <USER>, use the following rubrics while assigning usefulness score:\n",
      "\n",
      "Score 3: Very Useful\n",
      "- Relevance Criteria:\n",
      "   - Task Relevance: 2–3, Query Relevance: 2–3.\n",
      "- Satisfaction Criteria:\n",
      "   - Task and Query Satisfaction: 4–5.\n",
      "- User Behavior Metrics:\n",
      "   - Dwell Time: Above average, CTR: High.\n",
      "- Title & Summary Alignment:\n",
      "   - High Alignment (>0.5) with Query and Task.\n",
      "- Exceptional Cases:\n",
      "   - High satisfaction supports high usefulness even with low relevance.\n",
      "   - High dwell time supports high usefulness even with low CTR and low relevance.\n",
      "   - Despite low alignment, some contents provide unexpected useful information.\n",
      "\n",
      "Score 2: Fairly Useful\n",
      "- Relevance Criteria:\n",
      "   - Task Relevance: 1–2, Query Relevance: 1–2.\n",
      "- Satisfaction Criteria:\n",
      "   - Task and Query Satisfaction: 3–4.\n",
      "- User Behavior Metrics:\n",
      "   - Dwell Time: Around average, CTR: Medium.\n",
      "- Title & Summary Alignment:\n",
      "   - Moderate Alignment (0.3–0.5) with Query or Task.\n",
      "- Exceptional Cases:\n",
      "   - Users found content useful but lacking depth, that lead to high relevance but fairly useful cases.\n",
      "   - Moderate engagement supports moderate usefulness when content is relevant but incomplete.\n",
      "\n",
      "Score 1: Somewhat Useful\n",
      "- Relevance Criteria:\n",
      "   - Task Relevance: 1, Query Relevance: 1.\n",
      "- Satisfaction Criteria:\n",
      "   - Task and Query Satisfaction: 2–3.\n",
      "- User Behavior Metrics:\n",
      "   - Dwell Time: Below average, CTR: Low.\n",
      "- Title & Summary Alignment:\n",
      "   - Low Alignment (<0.3) with Query or Task.\n",
      "- Exceptional Cases:\n",
      "   - Low satisfaction supports low usefulness even with high relevance.\n",
      "   - Dwell Time: Below average, CTR: Low means users clicked expecting relevance but left quickly, indicating lack of depth and low usefulness.\n",
      "   - Misleading title-query match leads to high relevance and low usefulness cases.\n",
      "\n",
      "Score 0: Not Useful\n",
      "- Relevance Criteria:\n",
      "   - Task Relevance: 0, Query Relevance: 0.\n",
      "- Satisfaction Criteria:\n",
      "   - Task and Query Satisfaction: 1–2.\n",
      "- User Behavior Metrics:\n",
      "   - Dwell Time: Minimal, CTR: Very Low.\n",
      "- Title & Summary Alignment:\n",
      "   - No Alignment (<0.2) with Query or Task.\n",
      "   - Low alignment with high usefulness indicates LR-HU.\n",
      "- Exceptional Cases:\n",
      "   - Very low satisfaction confirms low relevance and low usefulness cases.\n",
      "   - Dwell Time: Minimal, CTR: Very Low means users abandoned the page quickly due to irrelevance leading to low usefulness.\n",
      "   - Low dwell time with high CTR indicates low usefulness even with high relevance.\n",
      "   - No Alignment (<0.2) with Query or Task means vontent is completely off-topic, reinforcing low relevance and low usefulness cases.\n",
      "\n",
      "Take a step back and reflect carefully on how best to solve your task. Understand the entire rubrics first and then decide on the usefulness scores analyzing the metrics. Directly output the usefulness score for unique ID <ID> as an integer value in the format:\n",
      "[Usefulness Score]\n",
      "\n",
      "DO NOT PROVIDE ADDITIONAL TEXT, REASONING, EXAMPLE, OR CODE. GENERATE USEFULNESS SCORE IN COORECT OUTPUT FORMAT FOR ALL UNIQUE ID.<|eot_id|><|start_header_id|>user<|end_header_id|>\n",
      "\n",
      "Evaluate the usefulness of a search result based on the given search session data and assign a usefulness score from 0 to 3.\n",
      "\n",
      "Information:\n",
      "\n",
      "```\n",
      "\n",
      "User ID: 1701110210 is performing a search task id: 1 where User has been asked to search for a method for playing an icebreaker game suitable for new employee training with about ten people. Based on the search results, user needs to identify the name of the icebreaker game that impresses them the most and describe in one sentence what preparations are needed for this game.\n",
      "Task Dwell Time: 84.7 ms\n",
      "Task Satisfaction Score: 5\n",
      "\n",
      "For this task, user submitted query: \"Suitable for new employee training. An icebreaker game involving about ten people.\"\n",
      "Query Position: 1\n",
      "Query Dwell Time: 34.39 ms\n",
      "Query Satisfaction Score: 5\n",
      "\n",
      "Retrieved Document: \n",
      "Unique ID: 1\n",
      "URL: http://www.unjs.com/fanwenwang/ziliao/376728.html\n",
      "Title: \"Team Icebreaker Games for Employee Training\"\n",
      "Content: \"Introduction: Generally, the game books we buy will classify the games. Then I will find roughly related games in the classification according to the needs of the course and choose them as team icebreaker games for employee training. The following is a collection of recent graduates...\"\n",
      "Rank: 1\n",
      "Task Relevance: 3\n",
      "Query Relevance: 3\n",
      "\n",
      "User Interaction:\n",
      "User spent 2.52 ms on the document.\n",
      "User spent on average 2.37 ms on all clicked documents.\n",
      "Document's click-through rate (CTR) is 0.33\n",
      "\n",
      "\n",
      "```\n",
      "\n",
      "Based on the above information, output only one integer from 0 to 3 indicating usefulness score. DO NOT PROVIDE ADDITIONAL TEXT, REASONING, EXAMPLES, OR CODE.\n",
      "\n",
      "Response Format: [Usefulness Score]<|eot_id|><|start_header_id|>assistant<|end_header_id|>\n",
      "\n",
      "3<|eot_id|>\n"
     ]
    }
   ],
   "source": [
    "print(df.text.iloc[0])"
   ]
  },
  {
   "cell_type": "code",
   "execution_count": 28,
   "id": "7943de94-aa80-4b87-9461-a5ca3a38cb4d",
   "metadata": {},
   "outputs": [
    {
     "data": {
      "image/png": "[encoded data removed]",
      "text/plain": [
       "<Figure size 640x480 with 1 Axes>"
      ]
     },
     "metadata": {
      "image/png": {
       "height": 451,
       "width": 621
      }
     },
     "output_type": "display_data"
    }
   ],
   "source": [
    "import numpy as np\n",
    "import matplotlib.pyplot as plt\n",
    "from matplotlib.ticker import PercentFormatter\n",
    "\n",
    "plt.hist(df.token_count, weights=np.ones(len(df.token_count)) / len(df.token_count))\n",
    "plt.gca().yaxis.set_major_formatter(PercentFormatter(1))\n",
    "plt.xlabel(\"Tokens\")\n",
    "plt.ylabel(\"Percentage\")\n",
    "plt.show();"
   ]
  },
  {
   "cell_type": "code",
   "execution_count": 29,
   "id": "96386723-a9ce-4482-aed0-c0e1aec30adc",
   "metadata": {},
   "outputs": [
    {
     "name": "stdout",
     "output_type": "stream",
     "text": [
      "Number of rows with token count > 2048: 0\n"
     ]
    },
    {
     "data": {
      "text/html": [
       "<div>\n",
       "<style scoped>\n",
       "    .dataframe tbody tr th:only-of-type {\n",
       "        vertical-align: middle;\n",
       "    }\n",
       "\n",
       "    .dataframe tbody tr th {\n",
       "        vertical-align: top;\n",
       "    }\n",
       "\n",
       "    .dataframe thead th {\n",
       "        text-align: right;\n",
       "    }\n",
       "</style>\n",
       "<table border=\"1\" class=\"dataframe\">\n",
       "  <thead>\n",
       "    <tr style=\"text-align: right;\">\n",
       "      <th></th>\n",
       "      <th>instruction</th>\n",
       "      <th>input</th>\n",
       "      <th>usefulness_score</th>\n",
       "      <th>text</th>\n",
       "      <th>token_count</th>\n",
       "    </tr>\n",
       "  </thead>\n",
       "  <tbody>\n",
       "  </tbody>\n",
       "</table>\n",
       "</div>"
      ],
      "text/plain": [
       "Empty DataFrame\n",
       "Columns: [instruction, input, usefulness_score, text, token_count]\n",
       "Index: []"
      ]
     },
     "execution_count": 29,
     "metadata": {},
     "output_type": "execute_result"
    }
   ],
   "source": [
    "# Find rows where token count exceeds 2048\n",
    "df_long_tokens = df[df[\"token_count\"] > 2048]\n",
    "\n",
    "print(f\"Number of rows with token count > 2048: {len(df_long_tokens)}\")\n",
    "\n",
    "df_long_tokens.head()"
   ]
  },
  {
   "cell_type": "code",
   "execution_count": 38,
   "id": "b57e0aa9-af40-46ef-8c47-06c885844026",
   "metadata": {},
   "outputs": [],
   "source": [
    "#df = df[df[\"token_count\"] <= 1024].copy()"
   ]
  },
  {
   "cell_type": "code",
   "execution_count": 39,
   "id": "c36899e7-89d7-4f72-b834-66ecd415d407",
   "metadata": {},
   "outputs": [
    {
     "name": "stdout",
     "output_type": "stream",
     "text": [
      "Number of rows after filtering (token_count ≤ 1024): 2516\n"
     ]
    }
   ],
   "source": [
    "#print(f\"Number of rows after filtering (token_count ≤ 1024): {len(df)}\")"
   ]
  },
  {
   "cell_type": "code",
   "execution_count": 30,
   "id": "39f1d165-fe66-4388-8108-27a689f65774",
   "metadata": {},
   "outputs": [],
   "source": [
    "from sklearn.model_selection import train_test_split\n",
    "from datasets import load_dataset\n",
    "\n",
    "train, temp = train_test_split(df, test_size=0.2, random_state=42)  # 80% train, 20% temp\n",
    "val, test = train_test_split(temp, test_size=0.5, random_state=42)  # 50% val, 50% test"
   ]
  },
  {
   "cell_type": "code",
   "execution_count": 31,
   "id": "9fe00134-149d-4801-925d-b546acf613d7",
   "metadata": {},
   "outputs": [
    {
     "name": "stdout",
     "output_type": "stream",
     "text": [
      "2436 305 305\n"
     ]
    }
   ],
   "source": [
    "print(len(train), len(val), len(test))"
   ]
  },
  {
   "cell_type": "code",
   "execution_count": 32,
   "id": "eee9c2a1-348e-4289-aa04-83151e0a3f16",
   "metadata": {},
   "outputs": [],
   "source": [
    "train.to_json(\"train.json\", orient=\"records\", lines=True)\n",
    "val.to_json(\"val.json\", orient=\"records\", lines=True)\n",
    "test.to_json(\"test.json\", orient=\"records\", lines=True)"
   ]
  },
  {
   "cell_type": "code",
   "execution_count": 33,
   "id": "80d6b4f4-4b46-40d2-bc0b-f4304ea347cf",
   "metadata": {},
   "outputs": [
    {
     "data": {
      "application/vnd.jupyter.widget-view+json": {
       "model_id": "4ede3af874a94715bafd234df7e4e476",
       "version_major": 2,
       "version_minor": 0
      },
      "text/plain": [
       "Generating train split: 0 examples [00:00, ? examples/s]"
      ]
     },
     "metadata": {},
     "output_type": "display_data"
    },
    {
     "data": {
      "application/vnd.jupyter.widget-view+json": {
       "model_id": "8cedcd000e5240e09e85e90904c6b09a",
       "version_major": 2,
       "version_minor": 0
      },
      "text/plain": [
       "Generating validation split: 0 examples [00:00, ? examples/s]"
      ]
     },
     "metadata": {},
     "output_type": "display_data"
    },
    {
     "data": {
      "application/vnd.jupyter.widget-view+json": {
       "model_id": "3bd05479b8cb4791aec54fea887b4a1f",
       "version_major": 2,
       "version_minor": 0
      },
      "text/plain": [
       "Generating test split: 0 examples [00:00, ? examples/s]"
      ]
     },
     "metadata": {},
     "output_type": "display_data"
    }
   ],
   "source": [
    "dataset = load_dataset(\n",
    "    \"json\",\n",
    "    data_files={\"train\": \"train.json\", \"validation\": \"val.json\", \"test\": \"test.json\"},\n",
    ")"
   ]
  },
  {
   "cell_type": "code",
   "execution_count": 34,
   "id": "9a974717-ed6a-4210-9e1d-83ebfb67e63c",
   "metadata": {},
   "outputs": [
    {
     "data": {
      "text/plain": [
       "DatasetDict({\n",
       "    train: Dataset({\n",
       "        features: ['instruction', 'input', 'usefulness_score', 'text', 'token_count'],\n",
       "        num_rows: 2436\n",
       "    })\n",
       "    validation: Dataset({\n",
       "        features: ['instruction', 'input', 'usefulness_score', 'text', 'token_count'],\n",
       "        num_rows: 305\n",
       "    })\n",
       "    test: Dataset({\n",
       "        features: ['instruction', 'input', 'usefulness_score', 'text', 'token_count'],\n",
       "        num_rows: 305\n",
       "    })\n",
       "})"
      ]
     },
     "execution_count": 34,
     "metadata": {},
     "output_type": "execute_result"
    }
   ],
   "source": [
    "dataset"
   ]
  },
  {
   "cell_type": "code",
   "execution_count": 35,
   "id": "d722a61f-b4e7-4e4a-8e5e-e1734cb87d32",
   "metadata": {},
   "outputs": [
    {
     "name": "stdout",
     "output_type": "stream",
     "text": [
      "<|begin_of_text|><|start_header_id|>system<|end_header_id|>\n",
      "\n",
      "Cutting Knowledge Date: December 2023\n",
      "Today Date: 26 Jul 2024\n",
      "\n",
      "**Task:**\n",
      "You are a search quality rater evaluating the usefulness of clicked documents based on the following information:\n",
      "\n",
      "a. User ID: Unique user ID\n",
      "b. Task Description: A clear explanation of what the user tries to accomplish using the search engine.\n",
      "c. Task Dwell Time (ms): Time spent on a specific task across all queries and clicked documents.\n",
      "d. Task Satisfaction: User’s satisfaction on overall task labeled as 1(low)~5(high).\n",
      "e. Query: User submitted query.\n",
      "f. Query Position: The sequential order of the query within the task session, indicating when it was submitted relative to other queries.\n",
      "g. Query Dwell Time (ms): Time spent on a specific query.\n",
      "h. Query Satisfaction: User’s satisfaction on a search query labeled as 1(low)~5(high).\n",
      "i. ID: Unique ID for each row.\n",
      "j. Clicked Documents: User clicked URL.\n",
      "k. Title: Title of the clicked documents.\n",
      "l. Summary: Brief description of the clicked documents on the web page.\n",
      "m. Rank: Rank of clicked documents on the SERP labeled as 1(high)~30(low).\n",
      "n. Task Relevance: Relevance of clicked documents to the user’s task labeled as 0 (low)~3 (high).\n",
      "o. Query Relevance: Relevance of clicked documents to the user’s query labeled as 0 (low)~3 (high).\n",
      "p. CTR: The percentage of clicks a document (URL) receives out of total interactions within a specific task and query.\n",
      "q. URL Dwell Time (ms): Time spent on a clicked document.\n",
      "r. Average URL Dwell Time (ms): Average time a user sepnds across all clicked document on individual task.\n",
      "\n",
      "You must analyze each task session by considering all the information given above and for each clicked document (URL), provide a usefulness score on an integer scale of 0 to 3 with the following meanings:\n",
      "3 = Very Useful, very helpful for this query\n",
      "2 = Fairly Useful, fairly helpful for this query\n",
      "1 = Somewhat Useful, maybe partly helpful but might contain other irrelevant content\n",
      "0 = Not Useful at all, should never be shown for this query\n",
      "\n",
      "**Instructions:**\n",
      "For each clicked documents <URL> under a specific task <TASK_ID> and user <USER>, use the following rubrics while assigning usefulness score:\n",
      "\n",
      "Score 3: Very Useful\n",
      "- Relevance Criteria:\n",
      "   - Task Relevance: 2–3, Query Relevance: 2–3.\n",
      "- Satisfaction Criteria:\n",
      "   - Task and Query Satisfaction: 4–5.\n",
      "- User Behavior Metrics:\n",
      "   - Dwell Time: Above average, CTR: High.\n",
      "- Title & Summary Alignment:\n",
      "   - High Alignment (>0.5) with Query and Task.\n",
      "- Exceptional Cases:\n",
      "   - High satisfaction supports high usefulness even with low relevance.\n",
      "   - High dwell time supports high usefulness even with low CTR and low relevance.\n",
      "   - Despite low alignment, some contents provide unexpected useful information.\n",
      "\n",
      "Score 2: Fairly Useful\n",
      "- Relevance Criteria:\n",
      "   - Task Relevance: 1–2, Query Relevance: 1–2.\n",
      "- Satisfaction Criteria:\n",
      "   - Task and Query Satisfaction: 3–4.\n",
      "- User Behavior Metrics:\n",
      "   - Dwell Time: Around average, CTR: Medium.\n",
      "- Title & Summary Alignment:\n",
      "   - Moderate Alignment (0.3–0.5) with Query or Task.\n",
      "- Exceptional Cases:\n",
      "   - Users found content useful but lacking depth, that lead to high relevance but fairly useful cases.\n",
      "   - Moderate engagement supports moderate usefulness when content is relevant but incomplete.\n",
      "\n",
      "Score 1: Somewhat Useful\n",
      "- Relevance Criteria:\n",
      "   - Task Relevance: 1, Query Relevance: 1.\n",
      "- Satisfaction Criteria:\n",
      "   - Task and Query Satisfaction: 2–3.\n",
      "- User Behavior Metrics:\n",
      "   - Dwell Time: Below average, CTR: Low.\n",
      "- Title & Summary Alignment:\n",
      "   - Low Alignment (<0.3) with Query or Task.\n",
      "- Exceptional Cases:\n",
      "   - Low satisfaction supports low usefulness even with high relevance.\n",
      "   - Dwell Time: Below average, CTR: Low means users clicked expecting relevance but left quickly, indicating lack of depth and low usefulness.\n",
      "   - Misleading title-query match leads to high relevance and low usefulness cases.\n",
      "\n",
      "Score 0: Not Useful\n",
      "- Relevance Criteria:\n",
      "   - Task Relevance: 0, Query Relevance: 0.\n",
      "- Satisfaction Criteria:\n",
      "   - Task and Query Satisfaction: 1–2.\n",
      "- User Behavior Metrics:\n",
      "   - Dwell Time: Minimal, CTR: Very Low.\n",
      "- Title & Summary Alignment:\n",
      "   - No Alignment (<0.2) with Query or Task.\n",
      "   - Low alignment with high usefulness indicates LR-HU.\n",
      "- Exceptional Cases:\n",
      "   - Very low satisfaction confirms low relevance and low usefulness cases.\n",
      "   - Dwell Time: Minimal, CTR: Very Low means users abandoned the page quickly due to irrelevance leading to low usefulness.\n",
      "   - Low dwell time with high CTR indicates low usefulness even with high relevance.\n",
      "   - No Alignment (<0.2) with Query or Task means vontent is completely off-topic, reinforcing low relevance and low usefulness cases.\n",
      "\n",
      "Take a step back and reflect carefully on how best to solve your task. Understand the entire rubrics first and then decide on the usefulness scores analyzing the metrics. Directly output the usefulness score for unique ID <ID> as an integer value in the format:\n",
      "[Usefulness Score]\n",
      "\n",
      "DO NOT PROVIDE ADDITIONAL TEXT, REASONING, EXAMPLE, OR CODE. GENERATE USEFULNESS SCORE IN COORECT OUTPUT FORMAT FOR ALL UNIQUE ID.<|eot_id|><|start_header_id|>user<|end_header_id|>\n",
      "\n",
      "Evaluate the usefulness of a search result based on the given search session data and assign a usefulness score from 0 to 3.\n",
      "\n",
      "Information:\n",
      "\n",
      "```\n",
      "\n",
      "User ID: 2015012923 is performing a search task id: 1 where User has been asked to search for a method for playing an icebreaker game suitable for new employee training with about ten people. Based on the search results, user needs to identify the name of the icebreaker game that impresses them the most and describe in one sentence what preparations are needed for this game.\n",
      "Task Dwell Time: 295.36 ms\n",
      "Task Satisfaction Score: 5\n",
      "\n",
      "For this task, user submitted query: \"10-player icebreaker game\"\n",
      "Query Position: 1\n",
      "Query Dwell Time: 167.14 ms\n",
      "Query Satisfaction Score: 3\n",
      "\n",
      "Retrieved Document: \n",
      "Unique ID: 786\n",
      "URL: http://doc.mbalib.com/view/094192b28718a68e92037d597187a563.html\n",
      "Title: \"16 Super Practical Icebreaker Games - MBA Think Tank Documentation\"\n",
      "Content: \"When the singing starts again, the game continues. 3. [Ice-breaking game] Big tree and squirrel Suitable number of people: more than 10 people Materials and venue: none Applicable to: all students Time: 5-10 minutes Operation procedure 1) Divide into groups in advance, three people in a group. Two people play the role of the big tree, facing...\"\n",
      "Rank: 1\n",
      "Task Relevance: 2\n",
      "Query Relevance: 2\n",
      "\n",
      "User Interaction:\n",
      "User spent 32.92 ms on the document.\n",
      "User spent on average 28.84 ms on all clicked documents.\n",
      "Document's click-through rate (CTR) is 0.33\n",
      "\n",
      "\n",
      "```\n",
      "\n",
      "Based on the above information, output only one integer from 0 to 3 indicating usefulness score. DO NOT PROVIDE ADDITIONAL TEXT, REASONING, EXAMPLES, OR CODE.\n",
      "\n",
      "Response Format: [Usefulness Score]<|eot_id|><|start_header_id|>assistant<|end_header_id|>\n",
      "\n",
      "2<|eot_id|>\n"
     ]
    }
   ],
   "source": [
    "print(dataset[\"train\"][0][\"text\"])"
   ]
  },
  {
   "cell_type": "code",
   "execution_count": 36,
   "id": "79c69871-cebb-45c2-a42d-1563381bb95d",
   "metadata": {},
   "outputs": [],
   "source": [
    "from textwrap import dedent\n",
    "from transformers import AutoTokenizer"
   ]
  },
  {
   "cell_type": "code",
   "execution_count": 37,
   "id": "e13d960e-b7fd-4d55-aa69-2b2f77ce6a9e",
   "metadata": {},
   "outputs": [
    {
     "name": "stderr",
     "output_type": "stream",
     "text": [
      "Device set to use cuda:0\n"
     ]
    }
   ],
   "source": [
    "from transformers import pipeline  # import pipeline\n",
    "\n",
    "pipe = pipeline(\n",
    "    task=\"text-generation\",\n",
    "    model=model,\n",
    "    tokenizer=tokenizer,\n",
    "    max_new_tokens=128,\n",
    "    return_full_text=False,\n",
    ")"
   ]
  },
  {
   "cell_type": "markdown",
   "id": "5617daa2-8ba7-4290-b6aa-c0b6a46be40e",
   "metadata": {},
   "source": [
    "# TESR PIPELINE WITH PROMPT"
   ]
  },
  {
   "cell_type": "code",
   "execution_count": 39,
   "id": "2b2a42ab-60f2-4792-a9a2-b30ab649d7ee",
   "metadata": {},
   "outputs": [],
   "source": [
    "def create_test_prompt(row):\n",
    "    prompt = dedent(\n",
    "        f\"\"\"\n",
    "{row[\"instruction\"]}\n",
    "\n",
    "Information:\n",
    "\n",
    "```\n",
    "{row[\"input\"]}\n",
    "```\n",
    "\n",
    "Based on the above information, output only one integer from 0 to 3 indicating usefulness score. DO NOT PROVIDE ADDITIONAL TEXT, REASONING, EXAMPLES, OR CODE.\n",
    "\n",
    "Response Format: [Usefulness Score]\n",
    "\"\"\"\n",
    "    )\n",
    "    messages = [\n",
    "        {\n",
    "            \"role\": \"system\",\n",
    "            \"content\": dedent(\n",
    "                \"\"\"\n",
    "**Task:**\n",
    "You are a search quality rater evaluating the usefulness of clicked documents based on the following information:\n",
    "\n",
    "a. User ID: Unique user ID\n",
    "b. Task Description: A clear explanation of what the user tries to accomplish using the search engine.\n",
    "c. Task Dwell Time (ms): Time spent on a specific task across all queries and clicked documents.\n",
    "d. Task Satisfaction: User’s satisfaction on overall task labeled as 1(low)~5(high).\n",
    "e. Query: User submitted query.\n",
    "f. Query Position: The sequential order of the query within the task session, indicating when it was submitted relative to other queries.\n",
    "g. Query Dwell Time (ms): Time spent on a specific query.\n",
    "h. Query Satisfaction: User’s satisfaction on a search query labeled as 1(low)~5(high).\n",
    "i. ID: Unique ID for each row.\n",
    "j. Clicked Documents: User clicked URL.\n",
    "k. Title: Title of the clicked documents.\n",
    "l. Summary: Brief description of the clicked documents on the web page.\n",
    "m. Rank: Rank of clicked documents on the SERP labeled as 1(high)~30(low).\n",
    "n. Task Relevance: Relevance of clicked documents to the user’s task labeled as 0 (low)~3 (high).\n",
    "o. Query Relevance: Relevance of clicked documents to the user’s query labeled as 0 (low)~3 (high).\n",
    "p. CTR: The percentage of clicks a document (URL) receives out of total interactions within a specific task and query.\n",
    "q. URL Dwell Time (ms): Time spent on a clicked document.\n",
    "r. Average URL Dwell Time (ms): Average time a user sepnds across all clicked document on individual task.\n",
    "\n",
    "You must analyze each task session by considering all the information given above and for each clicked document (URL), provide a usefulness score on an integer scale of 0 to 3 with the following meanings:\n",
    "3 = Very Useful, very helpful for this query\n",
    "2 = Fairly Useful, fairly helpful for this query\n",
    "1 = Somewhat Useful, maybe partly helpful but might contain other irrelevant content\n",
    "0 = Not Useful at all, should never be shown for this query\n",
    "\n",
    "**Instructions:**\n",
    "For each clicked documents <URL> under a specific task <TASK_ID> and user <USER>, use the following rubrics while assigning usefulness score:\n",
    "\n",
    "Score 3: Very Useful\n",
    "- Relevance Criteria:\n",
    "   - Task Relevance: 2–3, Query Relevance: 2–3.\n",
    "- Satisfaction Criteria:\n",
    "   - Task and Query Satisfaction: 4–5.\n",
    "- User Behavior Metrics:\n",
    "   - Dwell Time: Above average, CTR: High.\n",
    "- Title & Summary Alignment:\n",
    "   - High Alignment (>0.5) with Query and Task.\n",
    "- Exceptional Cases:\n",
    "   - High satisfaction supports high usefulness even with low relevance.\n",
    "   - High dwell time supports high usefulness even with low CTR and low relevance.\n",
    "   - Despite low alignment, some contents provide unexpected useful information.\n",
    "\n",
    "Score 2: Fairly Useful\n",
    "- Relevance Criteria:\n",
    "   - Task Relevance: 1–2, Query Relevance: 1–2.\n",
    "- Satisfaction Criteria:\n",
    "   - Task and Query Satisfaction: 3–4.\n",
    "- User Behavior Metrics:\n",
    "   - Dwell Time: Around average, CTR: Medium.\n",
    "- Title & Summary Alignment:\n",
    "   - Moderate Alignment (0.3–0.5) with Query or Task.\n",
    "- Exceptional Cases:\n",
    "   - Users found content useful but lacking depth, that lead to high relevance but fairly useful cases.\n",
    "   - Moderate engagement supports moderate usefulness when content is relevant but incomplete.\n",
    "\n",
    "Score 1: Somewhat Useful\n",
    "- Relevance Criteria:\n",
    "   - Task Relevance: 1, Query Relevance: 1.\n",
    "- Satisfaction Criteria:\n",
    "   - Task and Query Satisfaction: 2–3.\n",
    "- User Behavior Metrics:\n",
    "   - Dwell Time: Below average, CTR: Low.\n",
    "- Title & Summary Alignment:\n",
    "   - Low Alignment (<0.3) with Query or Task.\n",
    "- Exceptional Cases:\n",
    "   - Low satisfaction supports low usefulness even with high relevance.\n",
    "   - Dwell Time: Below average, CTR: Low means users clicked expecting relevance but left quickly, indicating lack of depth and low usefulness.\n",
    "   - Misleading title-query match leads to high relevance and low usefulness cases.\n",
    "\n",
    "Score 0: Not Useful\n",
    "- Relevance Criteria:\n",
    "   - Task Relevance: 0, Query Relevance: 0.\n",
    "- Satisfaction Criteria:\n",
    "   - Task and Query Satisfaction: 1–2.\n",
    "- User Behavior Metrics:\n",
    "   - Dwell Time: Minimal, CTR: Very Low.\n",
    "- Title & Summary Alignment:\n",
    "   - No Alignment (<0.2) with Query or Task.\n",
    "   - Low alignment with high usefulness indicates LR-HU.\n",
    "- Exceptional Cases:\n",
    "   - Very low satisfaction confirms low relevance and low usefulness cases.\n",
    "   - Dwell Time: Minimal, CTR: Very Low means users abandoned the page quickly due to irrelevance leading to low usefulness.\n",
    "   - Low dwell time with high CTR indicates low usefulness even with high relevance.\n",
    "   - No Alignment (<0.2) with Query or Task means vontent is completely off-topic, reinforcing low relevance and low usefulness cases.\n",
    "   \n",
    "Take a step back and reflect carefully on how best to solve your task. Understand the entire rubrics first and then decide on the usefulness scores analyzing the metrics. Directly output the usefulness score for unique ID <ID> as an integer value in the format:\n",
    "[Usefulness Score]\n",
    "\n",
    "DO NOT PROVIDE ADDITIONAL TEXT, REASONING, EXAMPLE, OR CODE. GENERATE USEFULNESS SCORE IN COORECT OUTPUT FORMAT FOR ALL UNIQUE ID.\n",
    "\"\"\"\n",
    "            ),\n",
    "        },\n",
    "        {\"role\": \"user\", \"content\": prompt},\n",
    "        {\"role\": \"assistant\", \"content\": str(row[\"usefulness_score\"])},\n",
    "    ]\n",
    "    return tokenizer.apply_chat_template(\n",
    "        messages, tokenize=False, add_generation_prompt=True\n",
    "    )"
   ]
  },
  {
   "cell_type": "code",
   "execution_count": 40,
   "id": "2d0fb0aa-6c02-4644-92bb-c57e6e29c712",
   "metadata": {},
   "outputs": [
    {
     "name": "stdout",
     "output_type": "stream",
     "text": [
      "<|begin_of_text|><|start_header_id|>system<|end_header_id|>\n",
      "\n",
      "Cutting Knowledge Date: December 2023\n",
      "Today Date: 26 Jul 2024\n",
      "\n",
      "**Task:**\n",
      "You are a search quality rater evaluating the usefulness of clicked documents based on the following information:\n",
      "\n",
      "a. User ID: Unique user ID\n",
      "b. Task Description: A clear explanation of what the user tries to accomplish using the search engine.\n",
      "c. Task Dwell Time (ms): Time spent on a specific task across all queries and clicked documents.\n",
      "d. Task Satisfaction: User’s satisfaction on overall task labeled as 1(low)~5(high).\n",
      "e. Query: User submitted query.\n",
      "f. Query Position: The sequential order of the query within the task session, indicating when it was submitted relative to other queries.\n",
      "g. Query Dwell Time (ms): Time spent on a specific query.\n",
      "h. Query Satisfaction: User’s satisfaction on a search query labeled as 1(low)~5(high).\n",
      "i. ID: Unique ID for each row.\n",
      "j. Clicked Documents: User clicked URL.\n",
      "k. Title: Title of the clicked documents.\n",
      "l. Summary: Brief description of the clicked documents on the web page.\n",
      "m. Rank: Rank of clicked documents on the SERP labeled as 1(high)~30(low).\n",
      "n. Task Relevance: Relevance of clicked documents to the user’s task labeled as 0 (low)~3 (high).\n",
      "o. Query Relevance: Relevance of clicked documents to the user’s query labeled as 0 (low)~3 (high).\n",
      "p. CTR: The percentage of clicks a document (URL) receives out of total interactions within a specific task and query.\n",
      "q. URL Dwell Time (ms): Time spent on a clicked document.\n",
      "r. Average URL Dwell Time (ms): Average time a user sepnds across all clicked document on individual task.\n",
      "\n",
      "You must analyze each task session by considering all the information given above and for each clicked document (URL), provide a usefulness score on an integer scale of 0 to 3 with the following meanings:\n",
      "3 = Very Useful, very helpful for this query\n",
      "2 = Fairly Useful, fairly helpful for this query\n",
      "1 = Somewhat Useful, maybe partly helpful but might contain other irrelevant content\n",
      "0 = Not Useful at all, should never be shown for this query\n",
      "\n",
      "**Instructions:**\n",
      "For each clicked documents <URL> under a specific task <TASK_ID> and user <USER>, use the following rubrics while assigning usefulness score:\n",
      "\n",
      "Score 3: Very Useful\n",
      "- Relevance Criteria:\n",
      "   - Task Relevance: 2–3, Query Relevance: 2–3.\n",
      "- Satisfaction Criteria:\n",
      "   - Task and Query Satisfaction: 4–5.\n",
      "- User Behavior Metrics:\n",
      "   - Dwell Time: Above average, CTR: High.\n",
      "- Title & Summary Alignment:\n",
      "   - High Alignment (>0.5) with Query and Task.\n",
      "- Exceptional Cases:\n",
      "   - High satisfaction supports high usefulness even with low relevance.\n",
      "   - High dwell time supports high usefulness even with low CTR and low relevance.\n",
      "   - Despite low alignment, some contents provide unexpected useful information.\n",
      "\n",
      "Score 2: Fairly Useful\n",
      "- Relevance Criteria:\n",
      "   - Task Relevance: 1–2, Query Relevance: 1–2.\n",
      "- Satisfaction Criteria:\n",
      "   - Task and Query Satisfaction: 3–4.\n",
      "- User Behavior Metrics:\n",
      "   - Dwell Time: Around average, CTR: Medium.\n",
      "- Title & Summary Alignment:\n",
      "   - Moderate Alignment (0.3–0.5) with Query or Task.\n",
      "- Exceptional Cases:\n",
      "   - Users found content useful but lacking depth, that lead to high relevance but fairly useful cases.\n",
      "   - Moderate engagement supports moderate usefulness when content is relevant but incomplete.\n",
      "\n",
      "Score 1: Somewhat Useful\n",
      "- Relevance Criteria:\n",
      "   - Task Relevance: 1, Query Relevance: 1.\n",
      "- Satisfaction Criteria:\n",
      "   - Task and Query Satisfaction: 2–3.\n",
      "- User Behavior Metrics:\n",
      "   - Dwell Time: Below average, CTR: Low.\n",
      "- Title & Summary Alignment:\n",
      "   - Low Alignment (<0.3) with Query or Task.\n",
      "- Exceptional Cases:\n",
      "   - Low satisfaction supports low usefulness even with high relevance.\n",
      "   - Dwell Time: Below average, CTR: Low means users clicked expecting relevance but left quickly, indicating lack of depth and low usefulness.\n",
      "   - Misleading title-query match leads to high relevance and low usefulness cases.\n",
      "\n",
      "Score 0: Not Useful\n",
      "- Relevance Criteria:\n",
      "   - Task Relevance: 0, Query Relevance: 0.\n",
      "- Satisfaction Criteria:\n",
      "   - Task and Query Satisfaction: 1–2.\n",
      "- User Behavior Metrics:\n",
      "   - Dwell Time: Minimal, CTR: Very Low.\n",
      "- Title & Summary Alignment:\n",
      "   - No Alignment (<0.2) with Query or Task.\n",
      "   - Low alignment with high usefulness indicates LR-HU.\n",
      "- Exceptional Cases:\n",
      "   - Very low satisfaction confirms low relevance and low usefulness cases.\n",
      "   - Dwell Time: Minimal, CTR: Very Low means users abandoned the page quickly due to irrelevance leading to low usefulness.\n",
      "   - Low dwell time with high CTR indicates low usefulness even with high relevance.\n",
      "   - No Alignment (<0.2) with Query or Task means vontent is completely off-topic, reinforcing low relevance and low usefulness cases.\n",
      "\n",
      "Take a step back and reflect carefully on how best to solve your task. Understand the entire rubrics first and then decide on the usefulness scores analyzing the metrics. Directly output the usefulness score for unique ID <ID> as an integer value in the format:\n",
      "[Usefulness Score]\n",
      "\n",
      "DO NOT PROVIDE ADDITIONAL TEXT, REASONING, EXAMPLE, OR CODE. GENERATE USEFULNESS SCORE IN COORECT OUTPUT FORMAT FOR ALL UNIQUE ID.<|eot_id|><|start_header_id|>user<|end_header_id|>\n",
      "\n",
      "Evaluate the usefulness of a search result based on the given search session data and assign a usefulness score from 0 to 3.\n",
      "\n",
      "Information:\n",
      "\n",
      "```\n",
      "\n",
      "User ID: 2017010399 is performing a search task id: 7 where User's friend wants to quit smoking and is searching for information on the benefits of quitting smoking, the side effects, and effective methods to quit. Based on the search results, user should identify and provide three suggestions for quitting smoking (for example: 1. Maintain a regular lifestyle).\n",
      "Task Dwell Time: 509.55 ms\n",
      "Task Satisfaction Score: 4\n",
      "\n",
      "For this task, user submitted query: \"Benefits of quitting smoking\"\n",
      "Query Position: 1\n",
      "Query Dwell Time: 91.1 ms\n",
      "Query Satisfaction Score: 4\n",
      "\n",
      "Retrieved Document: \n",
      "Unique ID: 1823\n",
      "URL: http://www.jieyanri.com/jieyan/20150609211459.html\n",
      "Title: \"See the benefits of quitting smoking at different time periods\"\n",
      "Content: \"1. Heart rate starts to return to normal 20 minutes after quitting smoking The health benefits of quitting smoking will be immediately apparent. 20 minutes after you smoked your last cigarette, your heart rate will gradually return to normal levels. 2. Peripheral circulation improves two hours after quitting smoking ...\"\n",
      "Rank: 4\n",
      "Task Relevance: 3\n",
      "Query Relevance: 3\n",
      "\n",
      "User Interaction:\n",
      "User spent 7.74 ms on the document.\n",
      "User spent on average 19.18 ms on all clicked documents.\n",
      "Document's click-through rate (CTR) is 0.15\n",
      "\n",
      "\n",
      "```\n",
      "\n",
      "Based on the above information, output only one integer from 0 to 3 indicating usefulness score. DO NOT PROVIDE ADDITIONAL TEXT, REASONING, EXAMPLES, OR CODE.\n",
      "\n",
      "Response Format: [Usefulness Score]<|eot_id|><|start_header_id|>assistant<|end_header_id|>\n",
      "\n",
      "2<|eot_id|><|start_header_id|>assistant<|end_header_id|>\n",
      "\n",
      "\n"
     ]
    }
   ],
   "source": [
    "row = dataset[\"test\"][0]\n",
    "prompt = create_test_prompt(row)\n",
    "print(prompt)"
   ]
  },
  {
   "cell_type": "code",
   "execution_count": 41,
   "id": "7a3a4561-8f87-494a-9b0e-9f14ba7aa316",
   "metadata": {},
   "outputs": [
    {
     "name": "stdout",
     "output_type": "stream",
     "text": [
      "\n",
      "answer:     2\n",
      "prediction: 1\n",
      "\n",
      "CPU times: user 614 ms, sys: 347 ms, total: 961 ms\n",
      "Wall time: 960 ms\n"
     ]
    }
   ],
   "source": [
    "%%time\n",
    "outputs = pipe(prompt)\n",
    "response = f\"\"\"\n",
    "answer:     {row[\"usefulness_score\"]}\n",
    "prediction: {outputs[0][\"generated_text\"]}\n",
    "\"\"\"\n",
    "print(response)"
   ]
  },
  {
   "cell_type": "code",
   "execution_count": 42,
   "id": "9a088911-e61b-4bc2-ae6b-2e0a9c0681b7",
   "metadata": {},
   "outputs": [
    {
     "name": "stdout",
     "output_type": "stream",
     "text": [
      "<|begin_of_text|><|start_header_id|>system<|end_header_id|>\n",
      "\n",
      "Cutting Knowledge Date: December 2023\n",
      "Today Date: 26 Jul 2024\n",
      "\n",
      "**Task:**\n",
      "You are a search quality rater evaluating the usefulness of clicked documents based on the following information:\n",
      "\n",
      "a. User ID: Unique user ID\n",
      "b. Task Description: A clear explanation of what the user tries to accomplish using the search engine.\n",
      "c. Task Dwell Time (ms): Time spent on a specific task across all queries and clicked documents.\n",
      "d. Task Satisfaction: User’s satisfaction on overall task labeled as 1(low)~5(high).\n",
      "e. Query: User submitted query.\n",
      "f. Query Position: The sequential order of the query within the task session, indicating when it was submitted relative to other queries.\n",
      "g. Query Dwell Time (ms): Time spent on a specific query.\n",
      "h. Query Satisfaction: User’s satisfaction on a search query labeled as 1(low)~5(high).\n",
      "i. ID: Unique ID for each row.\n",
      "j. Clicked Documents: User clicked URL.\n",
      "k. Title: Title of the clicked documents.\n",
      "l. Summary: Brief description of the clicked documents on the web page.\n",
      "m. Rank: Rank of clicked documents on the SERP labeled as 1(high)~30(low).\n",
      "n. Task Relevance: Relevance of clicked documents to the user’s task labeled as 0 (low)~3 (high).\n",
      "o. Query Relevance: Relevance of clicked documents to the user’s query labeled as 0 (low)~3 (high).\n",
      "p. CTR: The percentage of clicks a document (URL) receives out of total interactions within a specific task and query.\n",
      "q. URL Dwell Time (ms): Time spent on a clicked document.\n",
      "r. Average URL Dwell Time (ms): Average time a user sepnds across all clicked document on individual task.\n",
      "\n",
      "You must analyze each task session by considering all the information given above and for each clicked document (URL), provide a usefulness score on an integer scale of 0 to 3 with the following meanings:\n",
      "3 = Very Useful, very helpful for this query\n",
      "2 = Fairly Useful, fairly helpful for this query\n",
      "1 = Somewhat Useful, maybe partly helpful but might contain other irrelevant content\n",
      "0 = Not Useful at all, should never be shown for this query\n",
      "\n",
      "**Instructions:**\n",
      "For each clicked documents <URL> under a specific task <TASK_ID> and user <USER>, use the following rubrics while assigning usefulness score:\n",
      "\n",
      "Score 3: Very Useful\n",
      "- Relevance Criteria:\n",
      "   - Task Relevance: 2–3, Query Relevance: 2–3.\n",
      "- Satisfaction Criteria:\n",
      "   - Task and Query Satisfaction: 4–5.\n",
      "- User Behavior Metrics:\n",
      "   - Dwell Time: Above average, CTR: High.\n",
      "- Title & Summary Alignment:\n",
      "   - High Alignment (>0.5) with Query and Task.\n",
      "- Exceptional Cases:\n",
      "   - High satisfaction supports high usefulness even with low relevance.\n",
      "   - High dwell time supports high usefulness even with low CTR and low relevance.\n",
      "   - Despite low alignment, some contents provide unexpected useful information.\n",
      "\n",
      "Score 2: Fairly Useful\n",
      "- Relevance Criteria:\n",
      "   - Task Relevance: 1–2, Query Relevance: 1–2.\n",
      "- Satisfaction Criteria:\n",
      "   - Task and Query Satisfaction: 3–4.\n",
      "- User Behavior Metrics:\n",
      "   - Dwell Time: Around average, CTR: Medium.\n",
      "- Title & Summary Alignment:\n",
      "   - Moderate Alignment (0.3–0.5) with Query or Task.\n",
      "- Exceptional Cases:\n",
      "   - Users found content useful but lacking depth, that lead to high relevance but fairly useful cases.\n",
      "   - Moderate engagement supports moderate usefulness when content is relevant but incomplete.\n",
      "\n",
      "Score 1: Somewhat Useful\n",
      "- Relevance Criteria:\n",
      "   - Task Relevance: 1, Query Relevance: 1.\n",
      "- Satisfaction Criteria:\n",
      "   - Task and Query Satisfaction: 2–3.\n",
      "- User Behavior Metrics:\n",
      "   - Dwell Time: Below average, CTR: Low.\n",
      "- Title & Summary Alignment:\n",
      "   - Low Alignment (<0.3) with Query or Task.\n",
      "- Exceptional Cases:\n",
      "   - Low satisfaction supports low usefulness even with high relevance.\n",
      "   - Dwell Time: Below average, CTR: Low means users clicked expecting relevance but left quickly, indicating lack of depth and low usefulness.\n",
      "   - Misleading title-query match leads to high relevance and low usefulness cases.\n",
      "\n",
      "Score 0: Not Useful\n",
      "- Relevance Criteria:\n",
      "   - Task Relevance: 0, Query Relevance: 0.\n",
      "- Satisfaction Criteria:\n",
      "   - Task and Query Satisfaction: 1–2.\n",
      "- User Behavior Metrics:\n",
      "   - Dwell Time: Minimal, CTR: Very Low.\n",
      "- Title & Summary Alignment:\n",
      "   - No Alignment (<0.2) with Query or Task.\n",
      "   - Low alignment with high usefulness indicates LR-HU.\n",
      "- Exceptional Cases:\n",
      "   - Very low satisfaction confirms low relevance and low usefulness cases.\n",
      "   - Dwell Time: Minimal, CTR: Very Low means users abandoned the page quickly due to irrelevance leading to low usefulness.\n",
      "   - Low dwell time with high CTR indicates low usefulness even with high relevance.\n",
      "   - No Alignment (<0.2) with Query or Task means vontent is completely off-topic, reinforcing low relevance and low usefulness cases.\n",
      "\n",
      "Take a step back and reflect carefully on how best to solve your task. Understand the entire rubrics first and then decide on the usefulness scores analyzing the metrics. Directly output the usefulness score for unique ID <ID> as an integer value in the format:\n",
      "[Usefulness Score]\n",
      "\n",
      "DO NOT PROVIDE ADDITIONAL TEXT, REASONING, EXAMPLE, OR CODE. GENERATE USEFULNESS SCORE IN COORECT OUTPUT FORMAT FOR ALL UNIQUE ID.<|eot_id|><|start_header_id|>user<|end_header_id|>\n",
      "\n",
      "Evaluate the usefulness of a search result based on the given search session data and assign a usefulness score from 0 to 3.\n",
      "\n",
      "Information:\n",
      "\n",
      "```\n",
      "\n",
      "User ID: 2016050025 is performing a search task id: 2 where User has a week's vacation in May and wants to search for travel options around Beijing. User needs to consider the cost (including transportation, accommodation, and entertainment), value (activities available during the vacation), and convenience to choose a suitable travel destination. Based on the search results, user should list the alternative destinations that seem feasible and select the one they think is the best, explaining the reasons for their choice.\n",
      "Task Dwell Time: 582.58 ms\n",
      "Task Satisfaction Score: 3\n",
      "\n",
      "For this task, user submitted query: \"Shidu Yesanpo\"\n",
      "Query Position: 4\n",
      "Query Dwell Time: 83.45 ms\n",
      "Query Satisfaction Score: 4\n",
      "\n",
      "Retrieved Document: \n",
      "Unique ID: 1318\n",
      "URL: http://www.shidulvyou.com/\n",
      "Title: \"Shidu Tourism | Yesanpo Tourism Network - Beijing Shidu Tourism, Hebei Yesanpo Tourism, Yesanpo Baili...\"\n",
      "Content: \"Shidu-Yesanpo Tourism Network comprehensively introduces Beijing Shidu Scenic Area, Fangshan Shidu World Geopark, Hebei Yesanpo Tourist Scenic Area, Laishui Yesanpo Bailixia World Geopark, local tourism official website, and for netizens on this site, scenic spot tickets 8...\"\n",
      "Rank: 1\n",
      "Task Relevance: 2\n",
      "Query Relevance: 3\n",
      "\n",
      "User Interaction:\n",
      "User spent 14.26 ms on the document.\n",
      "User spent on average 30.46 ms on all clicked documents.\n",
      "Document's click-through rate (CTR) is 0.33\n",
      "\n",
      "\n",
      "```\n",
      "\n",
      "Based on the above information, output only one integer from 0 to 3 indicating usefulness score. DO NOT PROVIDE ADDITIONAL TEXT, REASONING, EXAMPLES, OR CODE.\n",
      "\n",
      "Response Format: [Usefulness Score]<|eot_id|><|start_header_id|>assistant<|end_header_id|>\n",
      "\n",
      "2<|eot_id|><|start_header_id|>assistant<|end_header_id|>\n",
      "\n",
      "\n"
     ]
    }
   ],
   "source": [
    "row = dataset[\"test\"][8]\n",
    "prompt = create_test_prompt(row)\n",
    "print(prompt)"
   ]
  },
  {
   "cell_type": "code",
   "execution_count": 43,
   "id": "dcf34804-2d3b-41a9-aec9-841c59981257",
   "metadata": {},
   "outputs": [
    {
     "name": "stdout",
     "output_type": "stream",
     "text": [
      "\n",
      "answer:     2\n",
      "prediction: 2\n",
      "\n",
      "CPU times: user 456 ms, sys: 212 ms, total: 667 ms\n",
      "Wall time: 666 ms\n"
     ]
    }
   ],
   "source": [
    "%%time\n",
    "outputs = pipe(prompt)\n",
    "response = f\"\"\"\n",
    "answer:     {row[\"usefulness_score\"]}\n",
    "prediction: {outputs[0][\"generated_text\"]}\n",
    "\"\"\"\n",
    "print(response)"
   ]
  },
  {
   "cell_type": "markdown",
   "id": "e9e6c5b3-573e-43f9-b9c3-38d1c762c4d9",
   "metadata": {},
   "source": [
    "# TEST DATASET PREDICTION"
   ]
  },
  {
   "cell_type": "code",
   "execution_count": 44,
   "id": "804d52e2-68ff-4367-b9a5-7179865c956c",
   "metadata": {},
   "outputs": [
    {
     "name": "stderr",
     "output_type": "stream",
     "text": [
      "You seem to be using the pipelines sequentially on GPU. In order to maximize efficiency please use a dataset\n",
      "100%|██████████| 305/305 [03:24<00:00,  1.49it/s]\n"
     ]
    }
   ],
   "source": [
    "rows = []\n",
    "for row in tqdm(dataset[\"test\"]):\n",
    "    prompt = create_test_prompt(row)\n",
    "    outputs = pipe(prompt)\n",
    "    rows.append(\n",
    "        {\n",
    "            \"instruction\": row[\"instruction\"],\n",
    "            \"input\": row[\"input\"],\n",
    "            \"prompt\": prompt, \n",
    "            \"usefulness_score\": row[\"usefulness_score\"],\n",
    "            \"untrained_prediction\": outputs[0][\"generated_text\"],\n",
    "        }\n",
    "    )\n",
    "\n",
    "predictions_df = pd.DataFrame(rows)"
   ]
  },
  {
   "cell_type": "markdown",
   "id": "39e904c0-0ec2-49d9-a593-9e3b535ca736",
   "metadata": {},
   "source": [
    "# TRAIN ON COMPLETIONS"
   ]
  },
  {
   "cell_type": "code",
   "execution_count": 45,
   "id": "cc8de7ea-52a4-4e99-9eab-14c479bc087d",
   "metadata": {},
   "outputs": [],
   "source": [
    "response_template = \"<|end_header_id|>\"\n",
    "collator = DataCollatorForCompletionOnlyLM(response_template, tokenizer=tokenizer)\n",
    "\n",
    "examples = [dataset[\"train\"][0][\"text\"]]\n",
    "encodings = [tokenizer(e) for e in examples]\n",
    "\n",
    "dataloader = DataLoader(encodings, collate_fn=collator, batch_size=1)"
   ]
  },
  {
   "cell_type": "code",
   "execution_count": 46,
   "id": "47dccf23-9462-40ae-b90e-c7a95818686a",
   "metadata": {},
   "outputs": [
    {
     "data": {
      "text/plain": [
       "dict_keys(['input_ids', 'attention_mask', 'labels'])"
      ]
     },
     "execution_count": 46,
     "metadata": {},
     "output_type": "execute_result"
    }
   ],
   "source": [
    "batch = next(iter(dataloader))\n",
    "batch.keys()"
   ]
  },
  {
   "cell_type": "code",
   "execution_count": 47,
   "id": "8202a8b0-60af-44ee-bf5d-57cb35a626f4",
   "metadata": {},
   "outputs": [
    {
     "data": {
      "text/plain": [
       "tensor([[  -100,   -100,   -100,  ...,    271,     17, 128009]])"
      ]
     },
     "execution_count": 47,
     "metadata": {},
     "output_type": "execute_result"
    }
   ],
   "source": [
    "batch[\"labels\"]"
   ]
  },
  {
   "cell_type": "markdown",
   "id": "02cce534-0508-4859-8c32-cc340a6fd113",
   "metadata": {},
   "source": [
    "# LoRA SETUP"
   ]
  },
  {
   "cell_type": "code",
   "execution_count": 48,
   "id": "66170508-0267-41c3-a443-bd83c11a3a71",
   "metadata": {},
   "outputs": [
    {
     "data": {
      "text/plain": [
       "LlamaForCausalLM(\n",
       "  (model): LlamaModel(\n",
       "    (embed_tokens): Embedding(128264, 4096)\n",
       "    (layers): ModuleList(\n",
       "      (0-31): 32 x LlamaDecoderLayer(\n",
       "        (self_attn): LlamaAttention(\n",
       "          (q_proj): Linear4bit(in_features=4096, out_features=4096, bias=False)\n",
       "          (k_proj): Linear4bit(in_features=4096, out_features=1024, bias=False)\n",
       "          (v_proj): Linear4bit(in_features=4096, out_features=1024, bias=False)\n",
       "          (o_proj): Linear4bit(in_features=4096, out_features=4096, bias=False)\n",
       "        )\n",
       "        (mlp): LlamaMLP(\n",
       "          (gate_proj): Linear4bit(in_features=4096, out_features=14336, bias=False)\n",
       "          (up_proj): Linear4bit(in_features=4096, out_features=14336, bias=False)\n",
       "          (down_proj): Linear4bit(in_features=14336, out_features=4096, bias=False)\n",
       "          (act_fn): SiLU()\n",
       "        )\n",
       "        (input_layernorm): LlamaRMSNorm((4096,), eps=1e-05)\n",
       "        (post_attention_layernorm): LlamaRMSNorm((4096,), eps=1e-05)\n",
       "      )\n",
       "    )\n",
       "    (norm): LlamaRMSNorm((4096,), eps=1e-05)\n",
       "    (rotary_emb): LlamaRotaryEmbedding()\n",
       "  )\n",
       "  (lm_head): Linear(in_features=4096, out_features=128264, bias=False)\n",
       ")"
      ]
     },
     "execution_count": 48,
     "metadata": {},
     "output_type": "execute_result"
    }
   ],
   "source": [
    "model"
   ]
  },
  {
   "cell_type": "code",
   "execution_count": 49,
   "id": "31c3b1a7-2fcc-4357-a362-f953258cb05c",
   "metadata": {},
   "outputs": [],
   "source": [
    "lora_config = LoraConfig(\n",
    "    r=8,\n",
    "    lora_alpha=16,\n",
    "    target_modules=[\n",
    "        \"self_attn.q_proj\",\n",
    "        \"self_attn.k_proj\",\n",
    "        \"self_attn.v_proj\",\n",
    "        \"self_attn.o_proj\",\n",
    "        \"mlp.gate_proj\",\n",
    "        \"mlp.up_proj\",\n",
    "        \"mlp.down_proj\",\n",
    "    ],\n",
    "    lora_dropout=0.05,\n",
    "    bias=\"none\",\n",
    "    task_type=TaskType.CAUSAL_LM,\n",
    ")\n",
    "model = prepare_model_for_kbit_training(model)\n",
    "model = get_peft_model(model, lora_config)"
   ]
  },
  {
   "cell_type": "code",
   "execution_count": 50,
   "id": "4bc56808-b33f-476b-bc5b-27cabaee3bcc",
   "metadata": {},
   "outputs": [
    {
     "name": "stdout",
     "output_type": "stream",
     "text": [
      "trainable params: 20,971,520 || all params: 8,051,298,304 || trainable%: 0.2605\n"
     ]
    }
   ],
   "source": [
    "model.print_trainable_parameters()"
   ]
  },
  {
   "cell_type": "code",
   "execution_count": 170,
   "id": "3678f3a0-4829-42f9-9d3b-a51385cd5cda",
   "metadata": {},
   "outputs": [
    {
     "name": "stderr",
     "output_type": "stream",
     "text": [
      "huggingface/tokenizers: The current process just got forked, after parallelism has already been used. Disabling parallelism to avoid deadlocks...\n",
      "To disable this warning, you can either:\n",
      "\t- Avoid using `tokenizers` before the fork if possible\n",
      "\t- Explicitly set the environment variable TOKENIZERS_PARALLELISM=(true | false)\n"
     ]
    },
    {
     "name": "stdout",
     "output_type": "stream",
     "text": [
      "Collecting tensorboard\n",
      "  Downloading tensorboard-2.19.0-py3-none-any.whl.metadata (1.8 kB)\n",
      "Collecting absl-py>=0.4 (from tensorboard)\n",
      "  Downloading absl_py-2.2.1-py3-none-any.whl.metadata (2.4 kB)\n",
      "Collecting grpcio>=1.48.2 (from tensorboard)\n",
      "  Downloading grpcio-1.71.0-cp310-cp310-manylinux_2_17_x86_64.manylinux2014_x86_64.whl.metadata (3.8 kB)\n",
      "Collecting markdown>=2.6.8 (from tensorboard)\n",
      "  Downloading Markdown-3.7-py3-none-any.whl.metadata (7.0 kB)\n",
      "Requirement already satisfied: numpy>=1.12.0 in /home/ec2-user/anaconda3/envs/python3/lib/python3.10/site-packages (from tensorboard) (1.26.4)\n",
      "Requirement already satisfied: packaging in /home/ec2-user/anaconda3/envs/python3/lib/python3.10/site-packages (from tensorboard) (21.3)\n",
      "Requirement already satisfied: protobuf!=4.24.0,>=3.19.6 in /home/ec2-user/anaconda3/envs/python3/lib/python3.10/site-packages (from tensorboard) (5.29.3)\n",
      "Requirement already satisfied: setuptools>=41.0.0 in /home/ec2-user/anaconda3/envs/python3/lib/python3.10/site-packages (from tensorboard) (75.8.0)\n",
      "Requirement already satisfied: six>1.9 in /home/ec2-user/anaconda3/envs/python3/lib/python3.10/site-packages (from tensorboard) (1.17.0)\n",
      "Collecting tensorboard-data-server<0.8.0,>=0.7.0 (from tensorboard)\n",
      "  Downloading tensorboard_data_server-0.7.2-py3-none-any.whl.metadata (1.1 kB)\n",
      "Requirement already satisfied: werkzeug>=1.0.1 in /home/ec2-user/anaconda3/envs/python3/lib/python3.10/site-packages (from tensorboard) (3.1.3)\n",
      "Requirement already satisfied: MarkupSafe>=2.1.1 in /home/ec2-user/anaconda3/envs/python3/lib/python3.10/site-packages (from werkzeug>=1.0.1->tensorboard) (3.0.2)\n",
      "Requirement already satisfied: pyparsing!=3.0.5,>=2.0.2 in /home/ec2-user/anaconda3/envs/python3/lib/python3.10/site-packages (from packaging->tensorboard) (3.2.1)\n",
      "Downloading tensorboard-2.19.0-py3-none-any.whl (5.5 MB)\n",
      "\u001b[2K   \u001b[90m━━━━━━━━━━━━━━━━━━━━━━━━━━━━━━━━━━━━━━━━\u001b[0m \u001b[32m5.5/5.5 MB\u001b[0m \u001b[31m165.4 MB/s\u001b[0m eta \u001b[36m0:00:00\u001b[0m\n",
      "\u001b[?25hDownloading absl_py-2.2.1-py3-none-any.whl (277 kB)\n",
      "Downloading grpcio-1.71.0-cp310-cp310-manylinux_2_17_x86_64.manylinux2014_x86_64.whl (5.9 MB)\n",
      "\u001b[2K   \u001b[90m━━━━━━━━━━━━━━━━━━━━━━━━━━━━━━━━━━━━━━━━\u001b[0m \u001b[32m5.9/5.9 MB\u001b[0m \u001b[31m185.1 MB/s\u001b[0m eta \u001b[36m0:00:00\u001b[0m\n",
      "\u001b[?25hDownloading Markdown-3.7-py3-none-any.whl (106 kB)\n",
      "Downloading tensorboard_data_server-0.7.2-py3-none-any.whl (2.4 kB)\n",
      "Installing collected packages: tensorboard-data-server, markdown, grpcio, absl-py, tensorboard\n",
      "Successfully installed absl-py-2.2.1 grpcio-1.71.0 markdown-3.7 tensorboard-2.19.0 tensorboard-data-server-0.7.2\n"
     ]
    }
   ],
   "source": [
    "!pip install -U tensorboard"
   ]
  },
  {
   "cell_type": "code",
   "execution_count": 51,
   "id": "5d7f870e-44b5-4d9e-92ef-dfbb8e876744",
   "metadata": {},
   "outputs": [
    {
     "data": {
      "text/html": [
       "\n",
       "      <iframe id=\"tensorboard-frame-1c80317fa3b1799d\" width=\"100%\" height=\"800\" frameborder=\"0\">\n",
       "      </iframe>\n",
       "      <script>\n",
       "        (function() {\n",
       "          const frame = document.getElementById(\"tensorboard-frame-1c80317fa3b1799d\");\n",
       "          const url = new URL(\"/\", window.location);\n",
       "          const port = 6008;\n",
       "          if (port) {\n",
       "            url.port = port;\n",
       "          }\n",
       "          frame.src = url;\n",
       "        })();\n",
       "      </script>\n",
       "    "
      ],
      "text/plain": [
       "<IPython.core.display.HTML object>"
      ]
     },
     "metadata": {},
     "output_type": "display_data"
    }
   ],
   "source": [
    "OUTPUT_DIR = \"/home/ec2-user/SageMaker/experiments\"\n",
    "LOG_DIR = f\"{OUTPUT_DIR}/runs\"\n",
    "\n",
    "%reload_ext tensorboard\n",
    "%tensorboard --logdir {LOG_DIR} --port=6008 --bind_all"
   ]
  },
  {
   "cell_type": "code",
   "execution_count": 52,
   "id": "124a39a4-a3d6-44a4-94d8-01353f1b0b09",
   "metadata": {},
   "outputs": [
    {
     "data": {
      "text/html": [
       "<a href='/proxy/6008/' target='_blank'>📊 Click Here to Open TensorBoard</a>"
      ],
      "text/plain": [
       "<IPython.core.display.HTML object>"
      ]
     },
     "metadata": {},
     "output_type": "display_data"
    }
   ],
   "source": [
    "from IPython.display import display, HTML\n",
    "\n",
    "TENSORBOARD_PORT = 6008  # Change if needed\n",
    "TENSORBOARD_URL = f\"/proxy/{TENSORBOARD_PORT}/\"\n",
    "\n",
    "display(HTML(f\"<a href='{TENSORBOARD_URL}' target='_blank'>📊 Click Here to Open TensorBoard</a>\"))"
   ]
  },
  {
   "cell_type": "code",
   "execution_count": 53,
   "id": "8635ef75-4013-422c-b93d-f0b902a0a262",
   "metadata": {},
   "outputs": [
    {
     "data": {
      "application/vnd.jupyter.widget-view+json": {
       "model_id": "5718dfbafdce4736a225839fe33c3aba",
       "version_major": 2,
       "version_minor": 0
      },
      "text/plain": [
       "Map:   0%|          | 0/2436 [00:00<?, ? examples/s]"
      ]
     },
     "metadata": {},
     "output_type": "display_data"
    },
    {
     "data": {
      "application/vnd.jupyter.widget-view+json": {
       "model_id": "5d0492249ed04d80b800aeb9abd28fe1",
       "version_major": 2,
       "version_minor": 0
      },
      "text/plain": [
       "Map:   0%|          | 0/305 [00:00<?, ? examples/s]"
      ]
     },
     "metadata": {},
     "output_type": "display_data"
    },
    {
     "name": "stderr",
     "output_type": "stream",
     "text": [
      "/home/ec2-user/anaconda3/envs/python3/lib/python3.10/site-packages/trl/trainer/sft_trainer.py:402: FutureWarning: `tokenizer` is deprecated and will be removed in version 5.0.0 for `SFTTrainer.__init__`. Use `processing_class` instead.\n",
      "  super().__init__(\n"
     ]
    }
   ],
   "source": [
    "sft_config = SFTConfig(\n",
    "    output_dir=OUTPUT_DIR,\n",
    "    dataset_text_field=\"text\",\n",
    "    max_seq_length=2048, \n",
    "    num_train_epochs=2.0,\n",
    "    per_device_train_batch_size=2,\n",
    "    per_device_eval_batch_size=2,\n",
    "    gradient_accumulation_steps=8,\n",
    "    optim=\"paged_adamw_8bit\",  #Explicitly set 8-bit optimizer\n",
    "    learning_rate=5.0e-05,\n",
    "    lr_scheduler_type=\"cosine\",\n",
    "    eval_strategy=\"steps\",\n",
    "    eval_steps=50,\n",
    "    save_steps=50,\n",
    "    logging_steps=10,\n",
    "    save_strategy=\"steps\",\n",
    "    warmup_ratio=0.1,\n",
    "    save_total_limit=2,\n",
    "    save_safetensors=True,\n",
    "    fp16=False,\n",
    "    bf16=torch.cuda.is_bf16_supported(),\n",
    "    gradient_checkpointing=True,\n",
    "    report_to=\"tensorboard\",\n",
    "    dataset_kwargs={\"add_special_tokens\": False, \n",
    "                    \"append_concat_token\": False,},\n",
    "    seed=SEED,\n",
    ")\n",
    "\n",
    "\n",
    "trainer = SFTTrainer(\n",
    "    model=model,\n",
    "    args=sft_config,\n",
    "    train_dataset=dataset[\"train\"],\n",
    "    eval_dataset=dataset[\"validation\"],\n",
    "    tokenizer=tokenizer,\n",
    "    data_collator=collator,\n",
    ")"
   ]
  },
  {
   "cell_type": "code",
   "execution_count": 54,
   "id": "48768018-4c96-48ff-ae15-696424f6ba08",
   "metadata": {},
   "outputs": [
    {
     "name": "stdout",
     "output_type": "stream",
     "text": [
      "OptimizerNames.PAGED_ADAMW_8BIT\n"
     ]
    }
   ],
   "source": [
    "print(trainer.args.optim)\n"
   ]
  },
  {
   "cell_type": "code",
   "execution_count": 55,
   "id": "6cdd3ddd-26ae-44e4-805b-40ad71c1f288",
   "metadata": {},
   "outputs": [
    {
     "name": "stdout",
     "output_type": "stream",
     "text": [
      "Optimizer in config: paged_adamw_8bit\n"
     ]
    }
   ],
   "source": [
    "print(f\"Optimizer in config: {sft_config.optim}\")"
   ]
  },
  {
   "cell_type": "code",
   "execution_count": 56,
   "id": "42ab2460-b395-492b-a36b-5cf7c621020d",
   "metadata": {},
   "outputs": [
    {
     "name": "stdout",
     "output_type": "stream",
     "text": [
      "['tensorboard']\n"
     ]
    }
   ],
   "source": [
    "print(sft_config.report_to)"
   ]
  },
  {
   "cell_type": "code",
   "execution_count": 57,
   "id": "8901c69b-e4ea-4832-84d3-8fdf679bafef",
   "metadata": {
    "scrolled": true
   },
   "outputs": [
    {
     "name": "stderr",
     "output_type": "stream",
     "text": [
      "`use_cache=True` is incompatible with gradient checkpointing. Setting `use_cache=False`.\n"
     ]
    },
    {
     "data": {
      "text/html": [
       "\n",
       "    <div>\n",
       "      \n",
       "      <progress value='304' max='304' style='width:300px; height:20px; vertical-align: middle;'></progress>\n",
       "      [304/304 4:35:32, Epoch 1/2]\n",
       "    </div>\n",
       "    <table border=\"1\" class=\"dataframe\">\n",
       "  <thead>\n",
       " <tr style=\"text-align: left;\">\n",
       "      <th>Step</th>\n",
       "      <th>Training Loss</th>\n",
       "      <th>Validation Loss</th>\n",
       "    </tr>\n",
       "  </thead>\n",
       "  <tbody>\n",
       "    <tr>\n",
       "      <td>50</td>\n",
       "      <td>0.402000</td>\n",
       "      <td>0.407805</td>\n",
       "    </tr>\n",
       "    <tr>\n",
       "      <td>100</td>\n",
       "      <td>0.358200</td>\n",
       "      <td>0.348909</td>\n",
       "    </tr>\n",
       "    <tr>\n",
       "      <td>150</td>\n",
       "      <td>0.355200</td>\n",
       "      <td>0.349660</td>\n",
       "    </tr>\n",
       "    <tr>\n",
       "      <td>200</td>\n",
       "      <td>0.302900</td>\n",
       "      <td>0.346835</td>\n",
       "    </tr>\n",
       "    <tr>\n",
       "      <td>250</td>\n",
       "      <td>0.351700</td>\n",
       "      <td>0.333478</td>\n",
       "    </tr>\n",
       "    <tr>\n",
       "      <td>300</td>\n",
       "      <td>0.282500</td>\n",
       "      <td>0.332252</td>\n",
       "    </tr>\n",
       "  </tbody>\n",
       "</table><p>"
      ],
      "text/plain": [
       "<IPython.core.display.HTML object>"
      ]
     },
     "metadata": {},
     "output_type": "display_data"
    },
    {
     "name": "stderr",
     "output_type": "stream",
     "text": [
      "/home/ec2-user/anaconda3/envs/python3/lib/python3.10/site-packages/peft/utils/save_and_load.py:209: UserWarning: Setting `save_embedding_layers` to `True` as the embedding layer has been resized during finetuning.\n",
      "  warnings.warn(\n",
      "/home/ec2-user/anaconda3/envs/python3/lib/python3.10/site-packages/peft/utils/save_and_load.py:209: UserWarning: Setting `save_embedding_layers` to `True` as the embedding layer has been resized during finetuning.\n",
      "  warnings.warn(\n",
      "/home/ec2-user/anaconda3/envs/python3/lib/python3.10/site-packages/peft/utils/save_and_load.py:209: UserWarning: Setting `save_embedding_layers` to `True` as the embedding layer has been resized during finetuning.\n",
      "  warnings.warn(\n",
      "/home/ec2-user/anaconda3/envs/python3/lib/python3.10/site-packages/peft/utils/save_and_load.py:209: UserWarning: Setting `save_embedding_layers` to `True` as the embedding layer has been resized during finetuning.\n",
      "  warnings.warn(\n",
      "/home/ec2-user/anaconda3/envs/python3/lib/python3.10/site-packages/peft/utils/save_and_load.py:209: UserWarning: Setting `save_embedding_layers` to `True` as the embedding layer has been resized during finetuning.\n",
      "  warnings.warn(\n",
      "/home/ec2-user/anaconda3/envs/python3/lib/python3.10/site-packages/peft/utils/save_and_load.py:209: UserWarning: Setting `save_embedding_layers` to `True` as the embedding layer has been resized during finetuning.\n",
      "  warnings.warn(\n",
      "/home/ec2-user/anaconda3/envs/python3/lib/python3.10/site-packages/peft/utils/save_and_load.py:209: UserWarning: Setting `save_embedding_layers` to `True` as the embedding layer has been resized during finetuning.\n",
      "  warnings.warn(\n"
     ]
    },
    {
     "data": {
      "text/plain": [
       "TrainOutput(global_step=304, training_loss=0.35233627495012787, metrics={'train_runtime': 16583.2875, 'train_samples_per_second': 0.294, 'train_steps_per_second': 0.018, 'total_flos': 3.600718998294528e+17, 'train_loss': 0.35233627495012787, 'epoch': 1.9917898193760264})"
      ]
     },
     "execution_count": 57,
     "metadata": {},
     "output_type": "execute_result"
    }
   ],
   "source": [
    "trainer.train()"
   ]
  },
  {
   "cell_type": "code",
   "execution_count": 61,
   "id": "d61cd348-771c-4c56-aafd-1041ef6a5fdb",
   "metadata": {},
   "outputs": [],
   "source": [
    "trainer.save_model(NEW_MODEL)"
   ]
  },
  {
   "cell_type": "code",
   "execution_count": 62,
   "id": "70e4f2f2-f65d-4e17-b3f0-236b4815dedc",
   "metadata": {},
   "outputs": [],
   "source": [
    "import torch\n",
    "torch.cuda.empty_cache()\n",
    "torch.cuda.ipc_collect()"
   ]
  },
  {
   "cell_type": "code",
   "execution_count": 63,
   "id": "ea19bf32-80a1-4583-9f03-4af84f47e2d7",
   "metadata": {},
   "outputs": [
    {
     "name": "stdout",
     "output_type": "stream",
     "text": [
      "Sat Mar 29 08:23:22 2025       \n",
      "+-----------------------------------------------------------------------------------------+\n",
      "| NVIDIA-SMI 550.144.03             Driver Version: 550.144.03     CUDA Version: 12.4     |\n",
      "|-----------------------------------------+------------------------+----------------------+\n",
      "| GPU  Name                 Persistence-M | Bus-Id          Disp.A | Volatile Uncorr. ECC |\n",
      "| Fan  Temp   Perf          Pwr:Usage/Cap |           Memory-Usage | GPU-Util  Compute M. |\n",
      "|                                         |                        |               MIG M. |\n",
      "|=========================================+========================+======================|\n",
      "|   0  NVIDIA A10G                    On  |   00000000:00:1E.0 Off |                    0 |\n",
      "|  0%   28C    P0             59W /  300W |    8895MiB /  23028MiB |      0%      Default |\n",
      "|                                         |                        |                  N/A |\n",
      "+-----------------------------------------+------------------------+----------------------+\n",
      "                                                                                         \n",
      "+-----------------------------------------------------------------------------------------+\n",
      "| Processes:                                                                              |\n",
      "|  GPU   GI   CI        PID   Type   Process name                              GPU Memory |\n",
      "|        ID   ID                                                               Usage      |\n",
      "|=========================================================================================|\n",
      "|    0   N/A  N/A     32181      C   ...r/anaconda3/envs/python3/bin/python       8750MiB |\n",
      "+-----------------------------------------------------------------------------------------+\n"
     ]
    },
    {
     "name": "stderr",
     "output_type": "stream",
     "text": [
      "huggingface/tokenizers: The current process just got forked, after parallelism has already been used. Disabling parallelism to avoid deadlocks...\n",
      "To disable this warning, you can either:\n",
      "\t- Avoid using `tokenizers` before the fork if possible\n",
      "\t- Explicitly set the environment variable TOKENIZERS_PARALLELISM=(true | false)\n"
     ]
    }
   ],
   "source": [
    "!nvidia-smi"
   ]
  },
  {
   "cell_type": "markdown",
   "id": "7430182b-6e55-447e-9200-be7c86ae25f6",
   "metadata": {},
   "source": [
    "# Load Trained Model"
   ]
  },
  {
   "cell_type": "code",
   "execution_count": 64,
   "id": "46eb2b67-44b5-4d7e-be87-c23f0f835575",
   "metadata": {},
   "outputs": [
    {
     "data": {
      "application/vnd.jupyter.widget-view+json": {
       "model_id": "bd68143d1f1748769e13422abc2c12a9",
       "version_major": 2,
       "version_minor": 0
      },
      "text/plain": [
       "Loading checkpoint shards:   0%|          | 0/4 [00:00<?, ?it/s]"
      ]
     },
     "metadata": {},
     "output_type": "display_data"
    },
    {
     "name": "stderr",
     "output_type": "stream",
     "text": [
      "/home/ec2-user/anaconda3/envs/python3/lib/python3.10/site-packages/peft/tuners/lora/bnb.py:325: UserWarning: Merge lora module to 4-bit linear may get different generations due to rounding errors.\n",
      "  warnings.warn(\n"
     ]
    }
   ],
   "source": [
    "quantization_config = BitsAndBytesConfig(\n",
    "    load_in_4bit=True, \n",
    "    bnb_4bit_quant_type=\"nf4\", \n",
    "    bnb_4bit_compute_dtype=torch.bfloat16\n",
    ")\n",
    "\n",
    "tokenizer = AutoTokenizer.from_pretrained(NEW_MODEL)\n",
    "\n",
    "model = AutoModelForCausalLM.from_pretrained(\n",
    "    MODEL_NAME,\n",
    "    quantization_config=quantization_config,  #4-bit quantization\n",
    "    device_map=\"auto\",\n",
    ")\n",
    "\n",
    "model.resize_token_embeddings(len(tokenizer), pad_to_multiple_of=8)\n",
    "model = PeftModel.from_pretrained(model, NEW_MODEL)\n",
    "model = model.merge_and_unload()"
   ]
  },
  {
   "cell_type": "code",
   "execution_count": 65,
   "id": "a19e8bbf-dc29-42ed-a155-033f6db44c26",
   "metadata": {},
   "outputs": [
    {
     "data": {
      "application/vnd.jupyter.widget-view+json": {
       "model_id": "1474845159874d76b4c0023157efb830",
       "version_major": 2,
       "version_minor": 0
      },
      "text/plain": [
       "model-00001-of-00002.safetensors:   0%|          | 0.00/4.98G [00:00<?, ?B/s]"
      ]
     },
     "metadata": {},
     "output_type": "display_data"
    },
    {
     "data": {
      "text/plain": [
       "CommitInfo(commit_url='https://huggingface.co/moulydewan/Llama-3.1-8B-Instruct-Finetuned-THUIR-Rubrics/commit/e732bea92fa00e1c3ec16ff6c0a7d93db5f9c406', commit_message='Upload LlamaForCausalLM', commit_description='', oid='e732bea92fa00e1c3ec16ff6c0a7d93db5f9c406', pr_url=None, repo_url=RepoUrl('https://huggingface.co/moulydewan/Llama-3.1-8B-Instruct-Finetuned-THUIR-Rubrics', endpoint='https://huggingface.co', repo_type='model', repo_id='moulydewan/Llama-3.1-8B-Instruct-Finetuned-THUIR-Rubrics'), pr_revision=None, pr_num=None)"
      ]
     },
     "execution_count": 65,
     "metadata": {},
     "output_type": "execute_result"
    }
   ],
   "source": [
    "model.push_to_hub(NEW_MODEL, tokenizer=tokenizer, max_shard_size=\"5GB\")"
   ]
  },
  {
   "cell_type": "code",
   "execution_count": 66,
   "id": "6a34324e-8052-491a-92c2-71c9d16a20df",
   "metadata": {},
   "outputs": [
    {
     "name": "stderr",
     "output_type": "stream",
     "text": [
      "No files have been modified since last commit. Skipping to prevent empty commit.\n"
     ]
    },
    {
     "data": {
      "text/plain": [
       "CommitInfo(commit_url='https://huggingface.co/moulydewan/Llama-3.1-8B-Instruct-Finetuned-THUIR-Rubrics/commit/e732bea92fa00e1c3ec16ff6c0a7d93db5f9c406', commit_message='Upload tokenizer', commit_description='', oid='e732bea92fa00e1c3ec16ff6c0a7d93db5f9c406', pr_url=None, repo_url=RepoUrl('https://huggingface.co/moulydewan/Llama-3.1-8B-Instruct-Finetuned-THUIR-Rubrics', endpoint='https://huggingface.co', repo_type='model', repo_id='moulydewan/Llama-3.1-8B-Instruct-Finetuned-THUIR-Rubrics'), pr_revision=None, pr_num=None)"
      ]
     },
     "execution_count": 66,
     "metadata": {},
     "output_type": "execute_result"
    }
   ],
   "source": [
    "tokenizer.push_to_hub(NEW_MODEL)"
   ]
  },
  {
   "cell_type": "markdown",
   "id": "1d6bd74f-0308-45f8-92e3-03ef11a91e6d",
   "metadata": {},
   "source": [
    "Evaluation"
   ]
  },
  {
   "cell_type": "code",
   "execution_count": 67,
   "id": "ee70d726-449b-413a-94ee-39c82ff648ad",
   "metadata": {},
   "outputs": [
    {
     "data": {
      "text/plain": [
       "DatasetDict({\n",
       "    train: Dataset({\n",
       "        features: ['instruction', 'input', 'usefulness_score', 'text', 'token_count'],\n",
       "        num_rows: 2436\n",
       "    })\n",
       "    validation: Dataset({\n",
       "        features: ['instruction', 'input', 'usefulness_score', 'text', 'token_count'],\n",
       "        num_rows: 305\n",
       "    })\n",
       "    test: Dataset({\n",
       "        features: ['instruction', 'input', 'usefulness_score', 'text', 'token_count'],\n",
       "        num_rows: 305\n",
       "    })\n",
       "})"
      ]
     },
     "execution_count": 67,
     "metadata": {},
     "output_type": "execute_result"
    }
   ],
   "source": [
    "dataset = load_dataset(\n",
    "    \"json\",\n",
    "    data_files={\"train\": \"train.json\", \"validation\": \"val.json\", \"test\": \"test.json\"},\n",
    ")\n",
    "dataset"
   ]
  },
  {
   "cell_type": "code",
   "execution_count": 202,
   "id": "712d6fe2-65f3-4734-951e-c0d37d65f304",
   "metadata": {},
   "outputs": [
    {
     "name": "stdout",
     "output_type": "stream",
     "text": [
      "Fri Mar 28 18:59:23 2025       \n",
      "+-----------------------------------------------------------------------------------------+\n",
      "| NVIDIA-SMI 550.144.03             Driver Version: 550.144.03     CUDA Version: 12.4     |\n",
      "|-----------------------------------------+------------------------+----------------------+\n",
      "| GPU  Name                 Persistence-M | Bus-Id          Disp.A | Volatile Uncorr. ECC |\n",
      "| Fan  Temp   Perf          Pwr:Usage/Cap |           Memory-Usage | GPU-Util  Compute M. |\n",
      "|                                         |                        |               MIG M. |\n",
      "|=========================================+========================+======================|\n",
      "|   0  NVIDIA A10G                    On  |   00000000:00:1E.0 Off |                    0 |\n",
      "|  0%   31C    P0             62W /  300W |   21439MiB /  23028MiB |      0%      Default |\n",
      "|                                         |                        |                  N/A |\n",
      "+-----------------------------------------+------------------------+----------------------+\n",
      "                                                                                         \n",
      "+-----------------------------------------------------------------------------------------+\n",
      "| Processes:                                                                              |\n",
      "|  GPU   GI   CI        PID   Type   Process name                              GPU Memory |\n",
      "|        ID   ID                                                               Usage      |\n",
      "|=========================================================================================|\n",
      "|    0   N/A  N/A     31997      C   ...r/anaconda3/envs/python3/bin/python      21302MiB |\n",
      "+-----------------------------------------------------------------------------------------+\n"
     ]
    },
    {
     "name": "stderr",
     "output_type": "stream",
     "text": [
      "huggingface/tokenizers: The current process just got forked, after parallelism has already been used. Disabling parallelism to avoid deadlocks...\n",
      "To disable this warning, you can either:\n",
      "\t- Avoid using `tokenizers` before the fork if possible\n",
      "\t- Explicitly set the environment variable TOKENIZERS_PARALLELISM=(true | false)\n"
     ]
    }
   ],
   "source": [
    "!nvidia-smi"
   ]
  },
  {
   "cell_type": "code",
   "execution_count": 68,
   "id": "8fb151b7-e3e3-4ab3-847c-3480a8d6812c",
   "metadata": {},
   "outputs": [
    {
     "data": {
      "text/plain": [
       "231"
      ]
     },
     "execution_count": 68,
     "metadata": {},
     "output_type": "execute_result"
    }
   ],
   "source": [
    "import torch\n",
    "import gc\n",
    "\n",
    "torch.cuda.empty_cache()  #Clears unused VRAM\n",
    "gc.collect()  #Forces garbage collection"
   ]
  },
  {
   "cell_type": "markdown",
   "id": "b37b17eb-78c4-43c3-a203-10e3d0317d66",
   "metadata": {},
   "source": [
    "# Test New Model"
   ]
  },
  {
   "cell_type": "code",
   "execution_count": 69,
   "id": "6e3f1f46-9b64-4fae-817a-c71fb379b106",
   "metadata": {},
   "outputs": [
    {
     "ename": "ValueError",
     "evalue": "Some modules are dispatched on the CPU or the disk. Make sure you have enough GPU RAM to fit the quantized model. If you want to dispatch the model on the CPU or the disk while keeping these modules in 32-bit, you need to set `llm_int8_enable_fp32_cpu_offload=True` and pass a custom `device_map` to `from_pretrained`. Check https://huggingface.co/docs/transformers/main/en/main_classes/quantization#offload-between-cpu-and-gpu for more details. ",
     "output_type": "error",
     "traceback": [
      "\u001b[0;31m---------------------------------------------------------------------------\u001b[0m",
      "\u001b[0;31mValueError\u001b[0m                                Traceback (most recent call last)",
      "Cell \u001b[0;32mIn[69], line 8\u001b[0m\n\u001b[1;32m      2\u001b[0m quantization_config \u001b[38;5;241m=\u001b[39m BitsAndBytesConfig(\n\u001b[1;32m      3\u001b[0m     load_in_4bit\u001b[38;5;241m=\u001b[39m\u001b[38;5;28;01mTrue\u001b[39;00m, bnb_4bit_quant_type\u001b[38;5;241m=\u001b[39m\u001b[38;5;124m\"\u001b[39m\u001b[38;5;124mnf4\u001b[39m\u001b[38;5;124m\"\u001b[39m, bnb_4bit_compute_dtype\u001b[38;5;241m=\u001b[39mtorch\u001b[38;5;241m.\u001b[39mbfloat16\n\u001b[1;32m      4\u001b[0m )\n\u001b[1;32m      6\u001b[0m tokenizer \u001b[38;5;241m=\u001b[39m AutoTokenizer\u001b[38;5;241m.\u001b[39mfrom_pretrained(MODEL_NAME, use_fast\u001b[38;5;241m=\u001b[39m\u001b[38;5;28;01mTrue\u001b[39;00m)\n\u001b[0;32m----> 8\u001b[0m model \u001b[38;5;241m=\u001b[39m \u001b[43mAutoModelForCausalLM\u001b[49m\u001b[38;5;241;43m.\u001b[39;49m\u001b[43mfrom_pretrained\u001b[49m\u001b[43m(\u001b[49m\n\u001b[1;32m      9\u001b[0m \u001b[43m    \u001b[49m\u001b[43mMODEL_NAME\u001b[49m\u001b[43m,\u001b[49m\u001b[43m \u001b[49m\u001b[43mquantization_config\u001b[49m\u001b[38;5;241;43m=\u001b[39;49m\u001b[43mquantization_config\u001b[49m\u001b[43m,\u001b[49m\u001b[43m \u001b[49m\u001b[43mdevice_map\u001b[49m\u001b[38;5;241;43m=\u001b[39;49m\u001b[38;5;124;43m\"\u001b[39;49m\u001b[38;5;124;43mauto\u001b[39;49m\u001b[38;5;124;43m\"\u001b[39;49m\n\u001b[1;32m     10\u001b[0m \u001b[43m)\u001b[49m\n",
      "File \u001b[0;32m~/anaconda3/envs/python3/lib/python3.10/site-packages/transformers/models/auto/auto_factory.py:564\u001b[0m, in \u001b[0;36m_BaseAutoModelClass.from_pretrained\u001b[0;34m(cls, pretrained_model_name_or_path, *model_args, **kwargs)\u001b[0m\n\u001b[1;32m    562\u001b[0m \u001b[38;5;28;01melif\u001b[39;00m \u001b[38;5;28mtype\u001b[39m(config) \u001b[38;5;129;01min\u001b[39;00m \u001b[38;5;28mcls\u001b[39m\u001b[38;5;241m.\u001b[39m_model_mapping\u001b[38;5;241m.\u001b[39mkeys():\n\u001b[1;32m    563\u001b[0m     model_class \u001b[38;5;241m=\u001b[39m _get_model_class(config, \u001b[38;5;28mcls\u001b[39m\u001b[38;5;241m.\u001b[39m_model_mapping)\n\u001b[0;32m--> 564\u001b[0m     \u001b[38;5;28;01mreturn\u001b[39;00m \u001b[43mmodel_class\u001b[49m\u001b[38;5;241;43m.\u001b[39;49m\u001b[43mfrom_pretrained\u001b[49m\u001b[43m(\u001b[49m\n\u001b[1;32m    565\u001b[0m \u001b[43m        \u001b[49m\u001b[43mpretrained_model_name_or_path\u001b[49m\u001b[43m,\u001b[49m\u001b[43m \u001b[49m\u001b[38;5;241;43m*\u001b[39;49m\u001b[43mmodel_args\u001b[49m\u001b[43m,\u001b[49m\u001b[43m \u001b[49m\u001b[43mconfig\u001b[49m\u001b[38;5;241;43m=\u001b[39;49m\u001b[43mconfig\u001b[49m\u001b[43m,\u001b[49m\u001b[43m \u001b[49m\u001b[38;5;241;43m*\u001b[39;49m\u001b[38;5;241;43m*\u001b[39;49m\u001b[43mhub_kwargs\u001b[49m\u001b[43m,\u001b[49m\u001b[43m \u001b[49m\u001b[38;5;241;43m*\u001b[39;49m\u001b[38;5;241;43m*\u001b[39;49m\u001b[43mkwargs\u001b[49m\n\u001b[1;32m    566\u001b[0m \u001b[43m    \u001b[49m\u001b[43m)\u001b[49m\n\u001b[1;32m    567\u001b[0m \u001b[38;5;28;01mraise\u001b[39;00m \u001b[38;5;167;01mValueError\u001b[39;00m(\n\u001b[1;32m    568\u001b[0m     \u001b[38;5;124mf\u001b[39m\u001b[38;5;124m\"\u001b[39m\u001b[38;5;124mUnrecognized configuration class \u001b[39m\u001b[38;5;132;01m{\u001b[39;00mconfig\u001b[38;5;241m.\u001b[39m\u001b[38;5;18m__class__\u001b[39m\u001b[38;5;132;01m}\u001b[39;00m\u001b[38;5;124m for this kind of AutoModel: \u001b[39m\u001b[38;5;132;01m{\u001b[39;00m\u001b[38;5;28mcls\u001b[39m\u001b[38;5;241m.\u001b[39m\u001b[38;5;18m__name__\u001b[39m\u001b[38;5;132;01m}\u001b[39;00m\u001b[38;5;124m.\u001b[39m\u001b[38;5;130;01m\\n\u001b[39;00m\u001b[38;5;124m\"\u001b[39m\n\u001b[1;32m    569\u001b[0m     \u001b[38;5;124mf\u001b[39m\u001b[38;5;124m\"\u001b[39m\u001b[38;5;124mModel type should be one of \u001b[39m\u001b[38;5;132;01m{\u001b[39;00m\u001b[38;5;124m'\u001b[39m\u001b[38;5;124m, \u001b[39m\u001b[38;5;124m'\u001b[39m\u001b[38;5;241m.\u001b[39mjoin(c\u001b[38;5;241m.\u001b[39m\u001b[38;5;18m__name__\u001b[39m\u001b[38;5;250m \u001b[39m\u001b[38;5;28;01mfor\u001b[39;00m\u001b[38;5;250m \u001b[39mc\u001b[38;5;250m \u001b[39m\u001b[38;5;129;01min\u001b[39;00m\u001b[38;5;250m \u001b[39m\u001b[38;5;28mcls\u001b[39m\u001b[38;5;241m.\u001b[39m_model_mapping\u001b[38;5;241m.\u001b[39mkeys())\u001b[38;5;132;01m}\u001b[39;00m\u001b[38;5;124m.\u001b[39m\u001b[38;5;124m\"\u001b[39m\n\u001b[1;32m    570\u001b[0m )\n",
      "File \u001b[0;32m~/anaconda3/envs/python3/lib/python3.10/site-packages/transformers/modeling_utils.py:4188\u001b[0m, in \u001b[0;36mPreTrainedModel.from_pretrained\u001b[0;34m(cls, pretrained_model_name_or_path, config, cache_dir, ignore_mismatched_sizes, force_download, local_files_only, token, revision, use_safetensors, weights_only, *model_args, **kwargs)\u001b[0m\n\u001b[1;32m   4185\u001b[0m     device_map \u001b[38;5;241m=\u001b[39m infer_auto_device_map(model, dtype\u001b[38;5;241m=\u001b[39mtarget_dtype, \u001b[38;5;241m*\u001b[39m\u001b[38;5;241m*\u001b[39mdevice_map_kwargs)\n\u001b[1;32m   4187\u001b[0m     \u001b[38;5;28;01mif\u001b[39;00m hf_quantizer \u001b[38;5;129;01mis\u001b[39;00m \u001b[38;5;129;01mnot\u001b[39;00m \u001b[38;5;28;01mNone\u001b[39;00m:\n\u001b[0;32m-> 4188\u001b[0m         \u001b[43mhf_quantizer\u001b[49m\u001b[38;5;241;43m.\u001b[39;49m\u001b[43mvalidate_environment\u001b[49m\u001b[43m(\u001b[49m\u001b[43mdevice_map\u001b[49m\u001b[38;5;241;43m=\u001b[39;49m\u001b[43mdevice_map\u001b[49m\u001b[43m)\u001b[49m\n\u001b[1;32m   4190\u001b[0m \u001b[38;5;28;01melif\u001b[39;00m device_map \u001b[38;5;129;01mis\u001b[39;00m \u001b[38;5;129;01mnot\u001b[39;00m \u001b[38;5;28;01mNone\u001b[39;00m:\n\u001b[1;32m   4191\u001b[0m     model\u001b[38;5;241m.\u001b[39mtie_weights()\n",
      "File \u001b[0;32m~/anaconda3/envs/python3/lib/python3.10/site-packages/transformers/quantizers/quantizer_bnb_4bit.py:103\u001b[0m, in \u001b[0;36mBnb4BitHfQuantizer.validate_environment\u001b[0;34m(self, *args, **kwargs)\u001b[0m\n\u001b[1;32m    101\u001b[0m         \u001b[38;5;28;01mpass\u001b[39;00m\n\u001b[1;32m    102\u001b[0m     \u001b[38;5;28;01melif\u001b[39;00m \u001b[38;5;124m\"\u001b[39m\u001b[38;5;124mcpu\u001b[39m\u001b[38;5;124m\"\u001b[39m \u001b[38;5;129;01min\u001b[39;00m device_map_without_lm_head\u001b[38;5;241m.\u001b[39mvalues() \u001b[38;5;129;01mor\u001b[39;00m \u001b[38;5;124m\"\u001b[39m\u001b[38;5;124mdisk\u001b[39m\u001b[38;5;124m\"\u001b[39m \u001b[38;5;129;01min\u001b[39;00m device_map_without_lm_head\u001b[38;5;241m.\u001b[39mvalues():\n\u001b[0;32m--> 103\u001b[0m         \u001b[38;5;28;01mraise\u001b[39;00m \u001b[38;5;167;01mValueError\u001b[39;00m(\n\u001b[1;32m    104\u001b[0m             \u001b[38;5;124m\"\u001b[39m\u001b[38;5;124mSome modules are dispatched on the CPU or the disk. Make sure you have enough GPU RAM to fit the \u001b[39m\u001b[38;5;124m\"\u001b[39m\n\u001b[1;32m    105\u001b[0m             \u001b[38;5;124m\"\u001b[39m\u001b[38;5;124mquantized model. If you want to dispatch the model on the CPU or the disk while keeping these modules \u001b[39m\u001b[38;5;124m\"\u001b[39m\n\u001b[1;32m    106\u001b[0m             \u001b[38;5;124m\"\u001b[39m\u001b[38;5;124min 32-bit, you need to set `llm_int8_enable_fp32_cpu_offload=True` and pass a custom `device_map` to \u001b[39m\u001b[38;5;124m\"\u001b[39m\n\u001b[1;32m    107\u001b[0m             \u001b[38;5;124m\"\u001b[39m\u001b[38;5;124m`from_pretrained`. Check \u001b[39m\u001b[38;5;124m\"\u001b[39m\n\u001b[1;32m    108\u001b[0m             \u001b[38;5;124m\"\u001b[39m\u001b[38;5;124mhttps://huggingface.co/docs/transformers/main/en/main_classes/quantization#offload-between-cpu-and-gpu \u001b[39m\u001b[38;5;124m\"\u001b[39m\n\u001b[1;32m    109\u001b[0m             \u001b[38;5;124m\"\u001b[39m\u001b[38;5;124mfor more details. \u001b[39m\u001b[38;5;124m\"\u001b[39m\n\u001b[1;32m    110\u001b[0m         )\n\u001b[1;32m    112\u001b[0m \u001b[38;5;28;01mif\u001b[39;00m version\u001b[38;5;241m.\u001b[39mparse(importlib\u001b[38;5;241m.\u001b[39mmetadata\u001b[38;5;241m.\u001b[39mversion(\u001b[38;5;124m\"\u001b[39m\u001b[38;5;124mbitsandbytes\u001b[39m\u001b[38;5;124m\"\u001b[39m)) \u001b[38;5;241m<\u001b[39m version\u001b[38;5;241m.\u001b[39mparse(\u001b[38;5;124m\"\u001b[39m\u001b[38;5;124m0.39.0\u001b[39m\u001b[38;5;124m\"\u001b[39m):\n\u001b[1;32m    113\u001b[0m     \u001b[38;5;28;01mraise\u001b[39;00m \u001b[38;5;167;01mValueError\u001b[39;00m(\n\u001b[1;32m    114\u001b[0m         \u001b[38;5;124m\"\u001b[39m\u001b[38;5;124mYou have a version of `bitsandbytes` that is not compatible with 4bit inference and training\u001b[39m\u001b[38;5;124m\"\u001b[39m\n\u001b[1;32m    115\u001b[0m         \u001b[38;5;124m\"\u001b[39m\u001b[38;5;124m make sure you have the latest version of `bitsandbytes` installed\u001b[39m\u001b[38;5;124m\"\u001b[39m\n\u001b[1;32m    116\u001b[0m     )\n",
      "\u001b[0;31mValueError\u001b[0m: Some modules are dispatched on the CPU or the disk. Make sure you have enough GPU RAM to fit the quantized model. If you want to dispatch the model on the CPU or the disk while keeping these modules in 32-bit, you need to set `llm_int8_enable_fp32_cpu_offload=True` and pass a custom `device_map` to `from_pretrained`. Check https://huggingface.co/docs/transformers/main/en/main_classes/quantization#offload-between-cpu-and-gpu for more details. "
     ]
    }
   ],
   "source": [
    "MODEL_NAME = \"Llama-3.1-8B-Instruct-Finetuned-THUIR-Rubrics\"\n",
    "quantization_config = BitsAndBytesConfig(\n",
    "    load_in_4bit=True, bnb_4bit_quant_type=\"nf4\", bnb_4bit_compute_dtype=torch.bfloat16\n",
    ")\n",
    "\n",
    "tokenizer = AutoTokenizer.from_pretrained(MODEL_NAME, use_fast=True)\n",
    "\n",
    "model = AutoModelForCausalLM.from_pretrained(\n",
    "    MODEL_NAME, quantization_config=quantization_config, device_map=\"auto\"\n",
    ")"
   ]
  },
  {
   "cell_type": "code",
   "execution_count": 70,
   "id": "188954a5-853a-4f66-809b-02778a2e2ca5",
   "metadata": {},
   "outputs": [
    {
     "name": "stderr",
     "output_type": "stream",
     "text": [
      "Device set to use cuda:0\n"
     ]
    }
   ],
   "source": [
    "pipe = pipeline(\n",
    "    task=\"text-generation\",\n",
    "    model=model,\n",
    "    tokenizer=tokenizer,\n",
    "    max_new_tokens=128,\n",
    "    return_full_text=False,\n",
    ")"
   ]
  },
  {
   "cell_type": "code",
   "execution_count": 71,
   "id": "32a04312-8c50-4a51-8fa3-382b17fd7316",
   "metadata": {},
   "outputs": [
    {
     "name": "stdout",
     "output_type": "stream",
     "text": [
      "<|begin_of_text|><|start_header_id|>system<|end_header_id|>\n",
      "\n",
      "Cutting Knowledge Date: December 2023\n",
      "Today Date: 26 Jul 2024\n",
      "\n",
      "**Task:**\n",
      "You are a search quality rater evaluating the usefulness of clicked documents based on the following information:\n",
      "\n",
      "a. User ID: Unique user ID\n",
      "b. Task Description: A clear explanation of what the user tries to accomplish using the search engine.\n",
      "c. Task Dwell Time (ms): Time spent on a specific task across all queries and clicked documents.\n",
      "d. Task Satisfaction: User’s satisfaction on overall task labeled as 1(low)~5(high).\n",
      "e. Query: User submitted query.\n",
      "f. Query Position: The sequential order of the query within the task session, indicating when it was submitted relative to other queries.\n",
      "g. Query Dwell Time (ms): Time spent on a specific query.\n",
      "h. Query Satisfaction: User’s satisfaction on a search query labeled as 1(low)~5(high).\n",
      "i. ID: Unique ID for each row.\n",
      "j. Clicked Documents: User clicked URL.\n",
      "k. Title: Title of the clicked documents.\n",
      "l. Summary: Brief description of the clicked documents on the web page.\n",
      "m. Rank: Rank of clicked documents on the SERP labeled as 1(high)~30(low).\n",
      "n. Task Relevance: Relevance of clicked documents to the user’s task labeled as 0 (low)~3 (high).\n",
      "o. Query Relevance: Relevance of clicked documents to the user’s query labeled as 0 (low)~3 (high).\n",
      "p. CTR: The percentage of clicks a document (URL) receives out of total interactions within a specific task and query.\n",
      "q. URL Dwell Time (ms): Time spent on a clicked document.\n",
      "r. Average URL Dwell Time (ms): Average time a user sepnds across all clicked document on individual task.\n",
      "\n",
      "You must analyze each task session by considering all the information given above and for each clicked document (URL), provide a usefulness score on an integer scale of 0 to 3 with the following meanings:\n",
      "3 = Very Useful, very helpful for this query\n",
      "2 = Fairly Useful, fairly helpful for this query\n",
      "1 = Somewhat Useful, maybe partly helpful but might contain other irrelevant content\n",
      "0 = Not Useful at all, should never be shown for this query\n",
      "\n",
      "**Instructions:**\n",
      "For each clicked documents <URL> under a specific task <TASK_ID> and user <USER>, use the following rubrics while assigning usefulness score:\n",
      "\n",
      "Score 3: Very Useful\n",
      "- Relevance Criteria:\n",
      "   - Task Relevance: 2–3, Query Relevance: 2–3.\n",
      "- Satisfaction Criteria:\n",
      "   - Task and Query Satisfaction: 4–5.\n",
      "- User Behavior Metrics:\n",
      "   - Dwell Time: Above average, CTR: High.\n",
      "- Title & Summary Alignment:\n",
      "   - High Alignment (>0.5) with Query and Task.\n",
      "- Exceptional Cases:\n",
      "   - High satisfaction supports high usefulness even with low relevance.\n",
      "   - High dwell time supports high usefulness even with low CTR and low relevance.\n",
      "   - Despite low alignment, some contents provide unexpected useful information.\n",
      "\n",
      "Score 2: Fairly Useful\n",
      "- Relevance Criteria:\n",
      "   - Task Relevance: 1–2, Query Relevance: 1–2.\n",
      "- Satisfaction Criteria:\n",
      "   - Task and Query Satisfaction: 3–4.\n",
      "- User Behavior Metrics:\n",
      "   - Dwell Time: Around average, CTR: Medium.\n",
      "- Title & Summary Alignment:\n",
      "   - Moderate Alignment (0.3–0.5) with Query or Task.\n",
      "- Exceptional Cases:\n",
      "   - Users found content useful but lacking depth, that lead to high relevance but fairly useful cases.\n",
      "   - Moderate engagement supports moderate usefulness when content is relevant but incomplete.\n",
      "\n",
      "Score 1: Somewhat Useful\n",
      "- Relevance Criteria:\n",
      "   - Task Relevance: 1, Query Relevance: 1.\n",
      "- Satisfaction Criteria:\n",
      "   - Task and Query Satisfaction: 2–3.\n",
      "- User Behavior Metrics:\n",
      "   - Dwell Time: Below average, CTR: Low.\n",
      "- Title & Summary Alignment:\n",
      "   - Low Alignment (<0.3) with Query or Task.\n",
      "- Exceptional Cases:\n",
      "   - Low satisfaction supports low usefulness even with high relevance.\n",
      "   - Dwell Time: Below average, CTR: Low means users clicked expecting relevance but left quickly, indicating lack of depth and low usefulness.\n",
      "   - Misleading title-query match leads to high relevance and low usefulness cases.\n",
      "\n",
      "Score 0: Not Useful\n",
      "- Relevance Criteria:\n",
      "   - Task Relevance: 0, Query Relevance: 0.\n",
      "- Satisfaction Criteria:\n",
      "   - Task and Query Satisfaction: 1–2.\n",
      "- User Behavior Metrics:\n",
      "   - Dwell Time: Minimal, CTR: Very Low.\n",
      "- Title & Summary Alignment:\n",
      "   - No Alignment (<0.2) with Query or Task.\n",
      "   - Low alignment with high usefulness indicates LR-HU.\n",
      "- Exceptional Cases:\n",
      "   - Very low satisfaction confirms low relevance and low usefulness cases.\n",
      "   - Dwell Time: Minimal, CTR: Very Low means users abandoned the page quickly due to irrelevance leading to low usefulness.\n",
      "   - Low dwell time with high CTR indicates low usefulness even with high relevance.\n",
      "   - No Alignment (<0.2) with Query or Task means vontent is completely off-topic, reinforcing low relevance and low usefulness cases.\n",
      "\n",
      "Take a step back and reflect carefully on how best to solve your task. Understand the entire rubrics first and then decide on the usefulness scores analyzing the metrics. Directly output the usefulness score for unique ID <ID> as an integer value in the format:\n",
      "[Usefulness Score]\n",
      "\n",
      "DO NOT PROVIDE ADDITIONAL TEXT, REASONING, EXAMPLE, OR CODE. GENERATE USEFULNESS SCORE IN COORECT OUTPUT FORMAT FOR ALL UNIQUE ID.<|eot_id|><|start_header_id|>user<|end_header_id|>\n",
      "\n",
      "Evaluate the usefulness of a search result based on the given search session data and assign a usefulness score from 0 to 3.\n",
      "\n",
      "Information:\n",
      "\n",
      "```\n",
      "\n",
      "User ID: 2017010399 is performing a search task id: 7 where User's friend wants to quit smoking and is searching for information on the benefits of quitting smoking, the side effects, and effective methods to quit. Based on the search results, user should identify and provide three suggestions for quitting smoking (for example: 1. Maintain a regular lifestyle).\n",
      "Task Dwell Time: 509.55 ms\n",
      "Task Satisfaction Score: 4\n",
      "\n",
      "For this task, user submitted query: \"Benefits of quitting smoking\"\n",
      "Query Position: 1\n",
      "Query Dwell Time: 91.1 ms\n",
      "Query Satisfaction Score: 4\n",
      "\n",
      "Retrieved Document: \n",
      "Unique ID: 1823\n",
      "URL: http://www.jieyanri.com/jieyan/20150609211459.html\n",
      "Title: \"See the benefits of quitting smoking at different time periods\"\n",
      "Content: \"1. Heart rate starts to return to normal 20 minutes after quitting smoking The health benefits of quitting smoking will be immediately apparent. 20 minutes after you smoked your last cigarette, your heart rate will gradually return to normal levels. 2. Peripheral circulation improves two hours after quitting smoking ...\"\n",
      "Rank: 4\n",
      "Task Relevance: 3\n",
      "Query Relevance: 3\n",
      "\n",
      "User Interaction:\n",
      "User spent 7.74 ms on the document.\n",
      "User spent on average 19.18 ms on all clicked documents.\n",
      "Document's click-through rate (CTR) is 0.15\n",
      "\n",
      "\n",
      "```\n",
      "\n",
      "Based on the above information, output only one integer from 0 to 3 indicating usefulness score. DO NOT PROVIDE ADDITIONAL TEXT, REASONING, EXAMPLES, OR CODE.\n",
      "\n",
      "Response Format: [Usefulness Score]<|eot_id|><|start_header_id|>assistant<|end_header_id|>\n",
      "\n",
      "2<|eot_id|><|start_header_id|>assistant<|end_header_id|>\n",
      "\n",
      "\n"
     ]
    }
   ],
   "source": [
    "row = dataset[\"test\"][0]\n",
    "prompt = create_test_prompt(row)\n",
    "print(prompt)"
   ]
  },
  {
   "cell_type": "code",
   "execution_count": 72,
   "id": "c262952e-40ac-40f2-9964-91de4b874fe3",
   "metadata": {},
   "outputs": [
    {
     "name": "stdout",
     "output_type": "stream",
     "text": [
      "\n",
      "answer:     2\n",
      "prediction: 1\n",
      "\n",
      "CPU times: user 491 ms, sys: 240 ms, total: 732 ms\n",
      "Wall time: 730 ms\n"
     ]
    }
   ],
   "source": [
    "%%time\n",
    "outputs = pipe(prompt)\n",
    "response = f\"\"\"\n",
    "answer:     {row[\"usefulness_score\"]}\n",
    "prediction: {outputs[0][\"generated_text\"]}\n",
    "\"\"\"\n",
    "print(response)"
   ]
  },
  {
   "cell_type": "code",
   "execution_count": 73,
   "id": "f863144e-4711-413d-a200-f6de8e8130a3",
   "metadata": {},
   "outputs": [
    {
     "ename": "KeyError",
     "evalue": "'answer'",
     "output_type": "error",
     "traceback": [
      "\u001b[0;31m---------------------------------------------------------------------------\u001b[0m",
      "\u001b[0;31mKeyError\u001b[0m                                  Traceback (most recent call last)",
      "File \u001b[0;32m<timed exec>:3\u001b[0m\n",
      "\u001b[0;31mKeyError\u001b[0m: 'answer'"
     ]
    }
   ],
   "source": [
    "%%time\n",
    "outputs = pipe(prompt)\n",
    "response = f\"\"\"\n",
    "answer:     {row[\"answer\"]}\n",
    "prediction: {outputs[0][\"generated_text\"]}\n",
    "\"\"\"\n",
    "print(response)"
   ]
  },
  {
   "cell_type": "code",
   "execution_count": 74,
   "id": "7b6b69e1-d756-4cca-ae30-008af6a78225",
   "metadata": {},
   "outputs": [
    {
     "name": "stderr",
     "output_type": "stream",
     "text": [
      "100%|██████████| 305/305 [03:42<00:00,  1.37it/s]\n"
     ]
    }
   ],
   "source": [
    "predictions = []\n",
    "for row in tqdm(dataset[\"test\"]):\n",
    "    outputs = pipe(create_test_prompt(row))\n",
    "    predictions.append(outputs[0][\"generated_text\"])"
   ]
  },
  {
   "cell_type": "code",
   "execution_count": 75,
   "id": "fc19eb0c-eede-459c-bed3-a106bc79c0bc",
   "metadata": {},
   "outputs": [
    {
     "data": {
      "text/html": [
       "<div>\n",
       "<style scoped>\n",
       "    .dataframe tbody tr th:only-of-type {\n",
       "        vertical-align: middle;\n",
       "    }\n",
       "\n",
       "    .dataframe tbody tr th {\n",
       "        vertical-align: top;\n",
       "    }\n",
       "\n",
       "    .dataframe thead th {\n",
       "        text-align: right;\n",
       "    }\n",
       "</style>\n",
       "<table border=\"1\" class=\"dataframe\">\n",
       "  <thead>\n",
       "    <tr style=\"text-align: right;\">\n",
       "      <th></th>\n",
       "      <th>instruction</th>\n",
       "      <th>input</th>\n",
       "      <th>prompt</th>\n",
       "      <th>usefulness_score</th>\n",
       "      <th>untrained_prediction</th>\n",
       "    </tr>\n",
       "  </thead>\n",
       "  <tbody>\n",
       "    <tr>\n",
       "      <th>0</th>\n",
       "      <td>Evaluate the usefulness of a search result bas...</td>\n",
       "      <td>\\nUser ID: 2017010399 is performing a search t...</td>\n",
       "      <td>&lt;|begin_of_text|&gt;&lt;|start_header_id|&gt;system&lt;|en...</td>\n",
       "      <td>2</td>\n",
       "      <td>2</td>\n",
       "    </tr>\n",
       "    <tr>\n",
       "      <th>1</th>\n",
       "      <td>Evaluate the usefulness of a search result bas...</td>\n",
       "      <td>\\nUser ID: 2018000005 is performing a search t...</td>\n",
       "      <td>&lt;|begin_of_text|&gt;&lt;|start_header_id|&gt;system&lt;|en...</td>\n",
       "      <td>2</td>\n",
       "      <td>1</td>\n",
       "    </tr>\n",
       "    <tr>\n",
       "      <th>2</th>\n",
       "      <td>Evaluate the usefulness of a search result bas...</td>\n",
       "      <td>\\nUser ID: 2015011730 is performing a search t...</td>\n",
       "      <td>&lt;|begin_of_text|&gt;&lt;|start_header_id|&gt;system&lt;|en...</td>\n",
       "      <td>3</td>\n",
       "      <td>0</td>\n",
       "    </tr>\n",
       "    <tr>\n",
       "      <th>3</th>\n",
       "      <td>Evaluate the usefulness of a search result bas...</td>\n",
       "      <td>\\nUser ID: 2015211220 is performing a search t...</td>\n",
       "      <td>&lt;|begin_of_text|&gt;&lt;|start_header_id|&gt;system&lt;|en...</td>\n",
       "      <td>1</td>\n",
       "      <td>0</td>\n",
       "    </tr>\n",
       "    <tr>\n",
       "      <th>4</th>\n",
       "      <td>Evaluate the usefulness of a search result bas...</td>\n",
       "      <td>\\nUser ID: 2013012187 is performing a search t...</td>\n",
       "      <td>&lt;|begin_of_text|&gt;&lt;|start_header_id|&gt;system&lt;|en...</td>\n",
       "      <td>2</td>\n",
       "      <td>1</td>\n",
       "    </tr>\n",
       "  </tbody>\n",
       "</table>\n",
       "</div>"
      ],
      "text/plain": [
       "                                         instruction  \\\n",
       "0  Evaluate the usefulness of a search result bas...   \n",
       "1  Evaluate the usefulness of a search result bas...   \n",
       "2  Evaluate the usefulness of a search result bas...   \n",
       "3  Evaluate the usefulness of a search result bas...   \n",
       "4  Evaluate the usefulness of a search result bas...   \n",
       "\n",
       "                                               input  \\\n",
       "0  \\nUser ID: 2017010399 is performing a search t...   \n",
       "1  \\nUser ID: 2018000005 is performing a search t...   \n",
       "2  \\nUser ID: 2015011730 is performing a search t...   \n",
       "3  \\nUser ID: 2015211220 is performing a search t...   \n",
       "4  \\nUser ID: 2013012187 is performing a search t...   \n",
       "\n",
       "                                              prompt  usefulness_score  \\\n",
       "0  <|begin_of_text|><|start_header_id|>system<|en...                 2   \n",
       "1  <|begin_of_text|><|start_header_id|>system<|en...                 2   \n",
       "2  <|begin_of_text|><|start_header_id|>system<|en...                 3   \n",
       "3  <|begin_of_text|><|start_header_id|>system<|en...                 1   \n",
       "4  <|begin_of_text|><|start_header_id|>system<|en...                 2   \n",
       "\n",
       "  untrained_prediction  \n",
       "0                    2  \n",
       "1                    1  \n",
       "2                    0  \n",
       "3                    0  \n",
       "4                    1  "
      ]
     },
     "execution_count": 75,
     "metadata": {},
     "output_type": "execute_result"
    }
   ],
   "source": [
    "predictions_df.head()"
   ]
  },
  {
   "cell_type": "code",
   "execution_count": 76,
   "id": "68cc32c5-76e4-4515-a0de-a36d0824dee5",
   "metadata": {},
   "outputs": [],
   "source": [
    "predictions_df[\"trained_prediction\"] = predictions"
   ]
  },
  {
   "cell_type": "code",
   "execution_count": 77,
   "id": "42ffeec8-72b4-403e-bea5-e26e353583fa",
   "metadata": {},
   "outputs": [
    {
     "data": {
      "text/html": [
       "<div>\n",
       "<style scoped>\n",
       "    .dataframe tbody tr th:only-of-type {\n",
       "        vertical-align: middle;\n",
       "    }\n",
       "\n",
       "    .dataframe tbody tr th {\n",
       "        vertical-align: top;\n",
       "    }\n",
       "\n",
       "    .dataframe thead th {\n",
       "        text-align: right;\n",
       "    }\n",
       "</style>\n",
       "<table border=\"1\" class=\"dataframe\">\n",
       "  <thead>\n",
       "    <tr style=\"text-align: right;\">\n",
       "      <th></th>\n",
       "      <th>instruction</th>\n",
       "      <th>input</th>\n",
       "      <th>prompt</th>\n",
       "      <th>usefulness_score</th>\n",
       "      <th>untrained_prediction</th>\n",
       "      <th>trained_prediction</th>\n",
       "    </tr>\n",
       "  </thead>\n",
       "  <tbody>\n",
       "    <tr>\n",
       "      <th>0</th>\n",
       "      <td>Evaluate the usefulness of a search result bas...</td>\n",
       "      <td>\\nUser ID: 2017010399 is performing a search t...</td>\n",
       "      <td>&lt;|begin_of_text|&gt;&lt;|start_header_id|&gt;system&lt;|en...</td>\n",
       "      <td>2</td>\n",
       "      <td>2</td>\n",
       "      <td>2</td>\n",
       "    </tr>\n",
       "    <tr>\n",
       "      <th>1</th>\n",
       "      <td>Evaluate the usefulness of a search result bas...</td>\n",
       "      <td>\\nUser ID: 2018000005 is performing a search t...</td>\n",
       "      <td>&lt;|begin_of_text|&gt;&lt;|start_header_id|&gt;system&lt;|en...</td>\n",
       "      <td>2</td>\n",
       "      <td>1</td>\n",
       "      <td>1</td>\n",
       "    </tr>\n",
       "    <tr>\n",
       "      <th>2</th>\n",
       "      <td>Evaluate the usefulness of a search result bas...</td>\n",
       "      <td>\\nUser ID: 2015011730 is performing a search t...</td>\n",
       "      <td>&lt;|begin_of_text|&gt;&lt;|start_header_id|&gt;system&lt;|en...</td>\n",
       "      <td>3</td>\n",
       "      <td>0</td>\n",
       "      <td>0</td>\n",
       "    </tr>\n",
       "    <tr>\n",
       "      <th>3</th>\n",
       "      <td>Evaluate the usefulness of a search result bas...</td>\n",
       "      <td>\\nUser ID: 2015211220 is performing a search t...</td>\n",
       "      <td>&lt;|begin_of_text|&gt;&lt;|start_header_id|&gt;system&lt;|en...</td>\n",
       "      <td>1</td>\n",
       "      <td>0</td>\n",
       "      <td>2</td>\n",
       "    </tr>\n",
       "    <tr>\n",
       "      <th>4</th>\n",
       "      <td>Evaluate the usefulness of a search result bas...</td>\n",
       "      <td>\\nUser ID: 2013012187 is performing a search t...</td>\n",
       "      <td>&lt;|begin_of_text|&gt;&lt;|start_header_id|&gt;system&lt;|en...</td>\n",
       "      <td>2</td>\n",
       "      <td>1</td>\n",
       "      <td>2</td>\n",
       "    </tr>\n",
       "  </tbody>\n",
       "</table>\n",
       "</div>"
      ],
      "text/plain": [
       "                                         instruction  \\\n",
       "0  Evaluate the usefulness of a search result bas...   \n",
       "1  Evaluate the usefulness of a search result bas...   \n",
       "2  Evaluate the usefulness of a search result bas...   \n",
       "3  Evaluate the usefulness of a search result bas...   \n",
       "4  Evaluate the usefulness of a search result bas...   \n",
       "\n",
       "                                               input  \\\n",
       "0  \\nUser ID: 2017010399 is performing a search t...   \n",
       "1  \\nUser ID: 2018000005 is performing a search t...   \n",
       "2  \\nUser ID: 2015011730 is performing a search t...   \n",
       "3  \\nUser ID: 2015211220 is performing a search t...   \n",
       "4  \\nUser ID: 2013012187 is performing a search t...   \n",
       "\n",
       "                                              prompt  usefulness_score  \\\n",
       "0  <|begin_of_text|><|start_header_id|>system<|en...                 2   \n",
       "1  <|begin_of_text|><|start_header_id|>system<|en...                 2   \n",
       "2  <|begin_of_text|><|start_header_id|>system<|en...                 3   \n",
       "3  <|begin_of_text|><|start_header_id|>system<|en...                 1   \n",
       "4  <|begin_of_text|><|start_header_id|>system<|en...                 2   \n",
       "\n",
       "  untrained_prediction trained_prediction  \n",
       "0                    2                  2  \n",
       "1                    1                  1  \n",
       "2                    0                  0  \n",
       "3                    0                  2  \n",
       "4                    1                  2  "
      ]
     },
     "execution_count": 77,
     "metadata": {},
     "output_type": "execute_result"
    }
   ],
   "source": [
    "predictions_df.head()"
   ]
  },
  {
   "cell_type": "code",
   "execution_count": 79,
   "id": "60f03562-f238-4e75-b696-8fffbab7cc4f",
   "metadata": {},
   "outputs": [],
   "source": [
    "predictions_df.to_csv(\"predictions.csv\", index=None)"
   ]
  },
  {
   "cell_type": "code",
   "execution_count": 80,
   "id": "e7fb5e76-aea5-4651-8c54-008573770bc6",
   "metadata": {},
   "outputs": [
    {
     "data": {
      "text/html": [
       "<div>\n",
       "<style scoped>\n",
       "    .dataframe tbody tr th:only-of-type {\n",
       "        vertical-align: middle;\n",
       "    }\n",
       "\n",
       "    .dataframe tbody tr th {\n",
       "        vertical-align: top;\n",
       "    }\n",
       "\n",
       "    .dataframe thead th {\n",
       "        text-align: right;\n",
       "    }\n",
       "</style>\n",
       "<table border=\"1\" class=\"dataframe\">\n",
       "  <thead>\n",
       "    <tr style=\"text-align: right;\">\n",
       "      <th></th>\n",
       "      <th>instruction</th>\n",
       "      <th>input</th>\n",
       "      <th>prompt</th>\n",
       "      <th>usefulness_score</th>\n",
       "      <th>untrained_prediction</th>\n",
       "      <th>trained_prediction</th>\n",
       "    </tr>\n",
       "  </thead>\n",
       "  <tbody>\n",
       "    <tr>\n",
       "      <th>180</th>\n",
       "      <td>Evaluate the usefulness of a search result bas...</td>\n",
       "      <td>\\nUser ID: 2018000004 is performing a search t...</td>\n",
       "      <td>&lt;|begin_of_text|&gt;&lt;|start_header_id|&gt;system&lt;|en...</td>\n",
       "      <td>3</td>\n",
       "      <td>1</td>\n",
       "      <td>1</td>\n",
       "    </tr>\n",
       "    <tr>\n",
       "      <th>154</th>\n",
       "      <td>Evaluate the usefulness of a search result bas...</td>\n",
       "      <td>\\nUser ID: 2014012437 is performing a search t...</td>\n",
       "      <td>&lt;|begin_of_text|&gt;&lt;|start_header_id|&gt;system&lt;|en...</td>\n",
       "      <td>0</td>\n",
       "      <td>1</td>\n",
       "      <td>1</td>\n",
       "    </tr>\n",
       "    <tr>\n",
       "      <th>111</th>\n",
       "      <td>Evaluate the usefulness of a search result bas...</td>\n",
       "      <td>\\nUser ID: 2016211684 is performing a search t...</td>\n",
       "      <td>&lt;|begin_of_text|&gt;&lt;|start_header_id|&gt;system&lt;|en...</td>\n",
       "      <td>2</td>\n",
       "      <td>1</td>\n",
       "      <td>1</td>\n",
       "    </tr>\n",
       "    <tr>\n",
       "      <th>247</th>\n",
       "      <td>Evaluate the usefulness of a search result bas...</td>\n",
       "      <td>\\nUser ID: 2016211684 is performing a search t...</td>\n",
       "      <td>&lt;|begin_of_text|&gt;&lt;|start_header_id|&gt;system&lt;|en...</td>\n",
       "      <td>1</td>\n",
       "      <td>2</td>\n",
       "      <td>2</td>\n",
       "    </tr>\n",
       "    <tr>\n",
       "      <th>60</th>\n",
       "      <td>Evaluate the usefulness of a search result bas...</td>\n",
       "      <td>\\nUser ID: 2013311064 is performing a search t...</td>\n",
       "      <td>&lt;|begin_of_text|&gt;&lt;|start_header_id|&gt;system&lt;|en...</td>\n",
       "      <td>3</td>\n",
       "      <td>0</td>\n",
       "      <td>1</td>\n",
       "    </tr>\n",
       "  </tbody>\n",
       "</table>\n",
       "</div>"
      ],
      "text/plain": [
       "                                           instruction  \\\n",
       "180  Evaluate the usefulness of a search result bas...   \n",
       "154  Evaluate the usefulness of a search result bas...   \n",
       "111  Evaluate the usefulness of a search result bas...   \n",
       "247  Evaluate the usefulness of a search result bas...   \n",
       "60   Evaluate the usefulness of a search result bas...   \n",
       "\n",
       "                                                 input  \\\n",
       "180  \\nUser ID: 2018000004 is performing a search t...   \n",
       "154  \\nUser ID: 2014012437 is performing a search t...   \n",
       "111  \\nUser ID: 2016211684 is performing a search t...   \n",
       "247  \\nUser ID: 2016211684 is performing a search t...   \n",
       "60   \\nUser ID: 2013311064 is performing a search t...   \n",
       "\n",
       "                                                prompt  usefulness_score  \\\n",
       "180  <|begin_of_text|><|start_header_id|>system<|en...                 3   \n",
       "154  <|begin_of_text|><|start_header_id|>system<|en...                 0   \n",
       "111  <|begin_of_text|><|start_header_id|>system<|en...                 2   \n",
       "247  <|begin_of_text|><|start_header_id|>system<|en...                 1   \n",
       "60   <|begin_of_text|><|start_header_id|>system<|en...                 3   \n",
       "\n",
       "    untrained_prediction trained_prediction  \n",
       "180                    1                  1  \n",
       "154                    1                  1  \n",
       "111                    1                  1  \n",
       "247                    2                  2  \n",
       "60                     0                  1  "
      ]
     },
     "execution_count": 80,
     "metadata": {},
     "output_type": "execute_result"
    }
   ],
   "source": [
    "sample = predictions_df.sample(n=20)\n",
    "sample.head()"
   ]
  },
  {
   "cell_type": "code",
   "execution_count": null,
   "id": "bec2cbeb-95c0-4cdd-91bf-c911717fee44",
   "metadata": {},
   "outputs": [],
   "source": []
  },
  {
   "cell_type": "code",
   "execution_count": null,
   "id": "19c63a6a-28d0-442a-8415-cc2378ce32b6",
   "metadata": {},
   "outputs": [],
   "source": []
  }
 ],
 "metadata": {
  "kernelspec": {
   "display_name": "conda_python3",
   "language": "python",
   "name": "conda_python3"
  },
  "language_info": {
   "codemirror_mode": {
    "name": "ipython",
    "version": 3
   },
   "file_extension": ".py",
   "mimetype": "text/x-python",
   "name": "python",
   "nbconvert_exporter": "python",
   "pygments_lexer": "ipython3",
   "version": "3.10.18"
  }
 },
 "nbformat": 4,
 "nbformat_minor": 5
}
